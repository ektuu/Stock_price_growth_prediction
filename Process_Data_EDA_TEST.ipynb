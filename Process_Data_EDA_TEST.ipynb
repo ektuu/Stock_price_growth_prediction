{
 "cells": [
  {
   "cell_type": "markdown",
   "metadata": {
    "colab_type": "text",
    "id": "KQq6xndfNvkl"
   },
   "source": [
    "# PHD Deepak2880 Process Data on Test Data"
   ]
  },
  {
   "cell_type": "markdown",
   "metadata": {
    "colab_type": "text",
    "id": "nCu1cPFO9YVG"
   },
   "source": [
    "# Preprocess on Test Data"
   ]
  },
  {
   "cell_type": "markdown",
   "metadata": {
    "colab_type": "text",
    "id": "8cUpH06eNvkm"
   },
   "source": [
    "####  $ Long $ Term $ Stock $ Price $ Growth $ Prediction $ using $ NLP $ on $ 10-K $ Financial $ Reports "
   ]
  },
  {
   "cell_type": "markdown",
   "metadata": {
    "colab_type": "text",
    "id": "WR-Ltl2jNvkn"
   },
   "source": [
    "# 1. Bussiness Understanding"
   ]
  },
  {
   "cell_type": "markdown",
   "metadata": {
    "colab_type": "text",
    "id": "yj7DIsqaNvkn"
   },
   "source": [
    "A 10-K FInancial Report is a comprehensive report which must be filed annually by\n",
    "all publicly traded companies about its financial performance. These reports are filed\n",
    "to the US Securities Exchange Commission (SEC). This is even more detailed than\n",
    "the annual report of a company. The 10K documents contain information about the\n",
    "Business' operations, risk factors, selected financial data, the Management's\n",
    "discussion and analysis (MD&A) and also Financial Statements and supplementary\n",
    "data. 10-K reports are very important for investors and Warren Buffet consistently\n",
    "cites these reports as a great source of information about a company's potential to\n",
    "succeed."
   ]
  },
  {
   "cell_type": "markdown",
   "metadata": {
    "colab_type": "text",
    "id": "RQmfANKSNvko"
   },
   "source": [
    "In this problem statement we have to Extract the 10-K FORM from the given \"10k_filing_info\". Once we get all the 10-K FORM then we have to predict the long term stock performance of a company from the 10-K docs."
   ]
  },
  {
   "cell_type": "markdown",
   "metadata": {
    "colab_type": "text",
    "id": "SKzAHXtiNvko"
   },
   "source": [
    "# 2. Problem Faced "
   ]
  },
  {
   "cell_type": "markdown",
   "metadata": {
    "colab_type": "text",
    "id": "tPxffNtQNvkp"
   },
   "source": [
    "## 2.1 Data Extraction"
   ]
  },
  {
   "cell_type": "markdown",
   "metadata": {
    "colab_type": "text",
    "id": "oXeKeP4tNvkp"
   },
   "source": [
    "Major Problem faced during the Extraction of the 10-K FORM was the size of file in the URL. Size of file is around 115MB for each, Also each URL contains approximately 8-12 documents, out of those doucements I have to extract only 10-K FORMS.I cracked this using soup library.\n",
    "Now new problem was waiting. There are around 2500 URL present. I Have to extract 10-K FORM for each URL. FIrst I tried only on 10-15 URL. It was taking around 20-25 minutes, then I decided that within a single loop its difficult to extract all the 10-K FORM also there are high chances of getting my IP ADDRESS blocked as all the url are sitting on the US GOV. server. They can find my activity as DDOS. So finally I decided to go with 1000 URL at a time. For downloading 1000 URL and extract 10-K FORM it took around 4 HRS. I tried to use multiprocessing.pool library to extract at a very few mins but due to DDOS I did not use this mehtod."
   ]
  },
  {
   "cell_type": "markdown",
   "metadata": {
    "colab_type": "text",
    "id": "fTPSJs6tNvkq"
   },
   "source": [
    "## 2.2 Feature Extraction"
   ]
  },
  {
   "cell_type": "markdown",
   "metadata": {
    "colab_type": "text",
    "id": "qKNQeuqVNvkq"
   },
   "source": [
    "After Extracting all the 10-K FORM new problem is waiting. Problem was to extract only given feature from the 10-K FORM. I almost search every file thst I have extracted for patterns. But in such limited span of time I could find only some features. Then by using Regular Expression I extracted the desired data from the 10-Kform. I am able to get around 30-40% feature only.\n",
    "I will improve my Reguar expresions to get more feature."
   ]
  },
  {
   "cell_type": "markdown",
   "metadata": {
    "colab_type": "text",
    "id": "u2yGjXqlNvkr"
   },
   "source": [
    "  # 3 $DATA$ $PREPROCESSING$"
   ]
  },
  {
   "cell_type": "markdown",
   "metadata": {
    "colab_type": "text",
    "id": "fXrFuyQRNvks"
   },
   "source": [
    "## 3.1. Load the Module to Read the CSV File"
   ]
  },
  {
   "cell_type": "code",
   "execution_count": 1,
   "metadata": {
    "colab": {},
    "colab_type": "code",
    "id": "j_5tkVW5QaAv"
   },
   "outputs": [],
   "source": [
    "#pip install swifter"
   ]
  },
  {
   "cell_type": "code",
   "execution_count": 2,
   "metadata": {
    "colab": {},
    "colab_type": "code",
    "id": "lVEqCvTyNvkt"
   },
   "outputs": [],
   "source": [
    "import os \n",
    "import re\n",
    "import pandas as pd\n",
    "import time\n",
    "import numpy as np\n",
    "import swifter"
   ]
  },
  {
   "cell_type": "code",
   "execution_count": 3,
   "metadata": {
    "colab": {
     "base_uri": "https://localhost:8080/",
     "height": 34
    },
    "colab_type": "code",
    "executionInfo": {
     "elapsed": 4634,
     "status": "ok",
     "timestamp": 1571030664959,
     "user": {
      "displayName": "Deepak Gupta",
      "photoUrl": "https://lh3.googleusercontent.com/a-/AAuE7mBfdBpsCi4UwiM8oFrxdyG0VHNBjAl3xyuOzWnzVg=s64",
      "userId": "15678042378023801369"
     },
     "user_tz": -330
    },
    "id": "xfNCmVS691WB",
    "outputId": "70154e8f-1c10-4618-e3b9-1f401f6cf000"
   },
   "outputs": [
    {
     "data": {
      "text/plain": [
       "\"from google.colab import drive\\ndrive.mount('/content/drive')\""
      ]
     },
     "execution_count": 3,
     "metadata": {},
     "output_type": "execute_result"
    }
   ],
   "source": [
    "'''from google.colab import drive\n",
    "drive.mount('/content/drive')'''"
   ]
  },
  {
   "cell_type": "code",
   "execution_count": 4,
   "metadata": {
    "colab": {
     "base_uri": "https://localhost:8080/",
     "height": 51
    },
    "colab_type": "code",
    "executionInfo": {
     "elapsed": 8445,
     "status": "ok",
     "timestamp": 1571030668783,
     "user": {
      "displayName": "Deepak Gupta",
      "photoUrl": "https://lh3.googleusercontent.com/a-/AAuE7mBfdBpsCi4UwiM8oFrxdyG0VHNBjAl3xyuOzWnzVg=s64",
      "userId": "15678042378023801369"
     },
     "user_tz": -330
    },
    "id": "WW5-Gn01Nvkw",
    "outputId": "b5e8d291-2351-443a-9809-5f65ee24cf9b"
   },
   "outputs": [
    {
     "name": "stdout",
     "output_type": "stream",
     "text": [
      "Wall time: 3.19 s\n"
     ]
    }
   ],
   "source": [
    "%%time\n",
    "#data = pd.read_csv(\"/content/drive/My Drive/PHD/PHD_Test_Data.csv\")\n",
    "data = pd.read_csv(\"PHD_Test_Data.csv\")"
   ]
  },
  {
   "cell_type": "code",
   "execution_count": 5,
   "metadata": {
    "colab": {
     "base_uri": "https://localhost:8080/",
     "height": 204
    },
    "colab_type": "code",
    "executionInfo": {
     "elapsed": 8434,
     "status": "ok",
     "timestamp": 1571030668783,
     "user": {
      "displayName": "Deepak Gupta",
      "photoUrl": "https://lh3.googleusercontent.com/a-/AAuE7mBfdBpsCi4UwiM8oFrxdyG0VHNBjAl3xyuOzWnzVg=s64",
      "userId": "15678042378023801369"
     },
     "user_tz": -330
    },
    "id": "ieCClvdkNvky",
    "outputId": "74da4e74-9a4b-45bb-90ca-c97c6474d302"
   },
   "outputs": [
    {
     "data": {
      "text/html": [
       "<div>\n",
       "<style scoped>\n",
       "    .dataframe tbody tr th:only-of-type {\n",
       "        vertical-align: middle;\n",
       "    }\n",
       "\n",
       "    .dataframe tbody tr th {\n",
       "        vertical-align: top;\n",
       "    }\n",
       "\n",
       "    .dataframe thead th {\n",
       "        text-align: right;\n",
       "    }\n",
       "</style>\n",
       "<table border=\"1\" class=\"dataframe\">\n",
       "  <thead>\n",
       "    <tr style=\"text-align: right;\">\n",
       "      <th></th>\n",
       "      <th>ticker</th>\n",
       "      <th>cik</th>\n",
       "      <th>filing_date</th>\n",
       "      <th>sentence</th>\n",
       "      <th>id</th>\n",
       "    </tr>\n",
       "  </thead>\n",
       "  <tbody>\n",
       "    <tr>\n",
       "      <th>0</th>\n",
       "      <td>GD</td>\n",
       "      <td>40533</td>\n",
       "      <td>2/17/2012</td>\n",
       "      <td>['1\\nd271667d10k.htm\\nFORM 10-K\\n\\n\\nForm 10-K...</td>\n",
       "      <td>0</td>\n",
       "    </tr>\n",
       "    <tr>\n",
       "      <th>1</th>\n",
       "      <td>MTB</td>\n",
       "      <td>36270</td>\n",
       "      <td>3/19/1999</td>\n",
       "      <td>['1\\n10-K\\n\\n\\n\\n\\n                           ...</td>\n",
       "      <td>1</td>\n",
       "    </tr>\n",
       "    <tr>\n",
       "      <th>2</th>\n",
       "      <td>RRC</td>\n",
       "      <td>315852</td>\n",
       "      <td>3/6/2001</td>\n",
       "      <td>[\"1\\nl86830ae10-k.htm\\nRANGE RESOURCES CORPORA...</td>\n",
       "      <td>2</td>\n",
       "    </tr>\n",
       "    <tr>\n",
       "      <th>3</th>\n",
       "      <td>LH</td>\n",
       "      <td>920148</td>\n",
       "      <td>2/26/2009</td>\n",
       "      <td>[\"1\\nlabcorp10k.htm\\n\\n\\n\\n \\n\\n\\nUNITED STATE...</td>\n",
       "      <td>3</td>\n",
       "    </tr>\n",
       "    <tr>\n",
       "      <th>4</th>\n",
       "      <td>SYY</td>\n",
       "      <td>96021</td>\n",
       "      <td>9/16/2004</td>\n",
       "      <td>['1\\nh18314e10vk.txt\\nSYSCO CORPORATION - JULY...</td>\n",
       "      <td>4</td>\n",
       "    </tr>\n",
       "  </tbody>\n",
       "</table>\n",
       "</div>"
      ],
      "text/plain": [
       "  ticker     cik filing_date  \\\n",
       "0     GD   40533   2/17/2012   \n",
       "1    MTB   36270   3/19/1999   \n",
       "2    RRC  315852    3/6/2001   \n",
       "3     LH  920148   2/26/2009   \n",
       "4    SYY   96021   9/16/2004   \n",
       "\n",
       "                                            sentence  id  \n",
       "0  ['1\\nd271667d10k.htm\\nFORM 10-K\\n\\n\\nForm 10-K...   0  \n",
       "1  ['1\\n10-K\\n\\n\\n\\n\\n                           ...   1  \n",
       "2  [\"1\\nl86830ae10-k.htm\\nRANGE RESOURCES CORPORA...   2  \n",
       "3  [\"1\\nlabcorp10k.htm\\n\\n\\n\\n \\n\\n\\nUNITED STATE...   3  \n",
       "4  ['1\\nh18314e10vk.txt\\nSYSCO CORPORATION - JULY...   4  "
      ]
     },
     "execution_count": 5,
     "metadata": {},
     "output_type": "execute_result"
    }
   ],
   "source": [
    "data.head()"
   ]
  },
  {
   "cell_type": "code",
   "execution_count": 6,
   "metadata": {
    "colab": {},
    "colab_type": "code",
    "id": "7Iw5LLURNvk0"
   },
   "outputs": [],
   "source": [
    "wdata = data.iloc[:,3:].copy()\n",
    "#del data_1,data_2,data_3"
   ]
  },
  {
   "cell_type": "code",
   "execution_count": 7,
   "metadata": {
    "colab": {
     "base_uri": "https://localhost:8080/",
     "height": 204
    },
    "colab_type": "code",
    "executionInfo": {
     "elapsed": 8416,
     "status": "ok",
     "timestamp": 1571030668785,
     "user": {
      "displayName": "Deepak Gupta",
      "photoUrl": "https://lh3.googleusercontent.com/a-/AAuE7mBfdBpsCi4UwiM8oFrxdyG0VHNBjAl3xyuOzWnzVg=s64",
      "userId": "15678042378023801369"
     },
     "user_tz": -330
    },
    "id": "1D_Dej8jNvk1",
    "outputId": "78c9a919-2366-4faa-9493-706f8ce87c77"
   },
   "outputs": [
    {
     "data": {
      "text/html": [
       "<div>\n",
       "<style scoped>\n",
       "    .dataframe tbody tr th:only-of-type {\n",
       "        vertical-align: middle;\n",
       "    }\n",
       "\n",
       "    .dataframe tbody tr th {\n",
       "        vertical-align: top;\n",
       "    }\n",
       "\n",
       "    .dataframe thead th {\n",
       "        text-align: right;\n",
       "    }\n",
       "</style>\n",
       "<table border=\"1\" class=\"dataframe\">\n",
       "  <thead>\n",
       "    <tr style=\"text-align: right;\">\n",
       "      <th></th>\n",
       "      <th>sentence</th>\n",
       "      <th>id</th>\n",
       "    </tr>\n",
       "  </thead>\n",
       "  <tbody>\n",
       "    <tr>\n",
       "      <th>0</th>\n",
       "      <td>['1\\nd271667d10k.htm\\nFORM 10-K\\n\\n\\nForm 10-K...</td>\n",
       "      <td>0</td>\n",
       "    </tr>\n",
       "    <tr>\n",
       "      <th>1</th>\n",
       "      <td>['1\\n10-K\\n\\n\\n\\n\\n                           ...</td>\n",
       "      <td>1</td>\n",
       "    </tr>\n",
       "    <tr>\n",
       "      <th>2</th>\n",
       "      <td>[\"1\\nl86830ae10-k.htm\\nRANGE RESOURCES CORPORA...</td>\n",
       "      <td>2</td>\n",
       "    </tr>\n",
       "    <tr>\n",
       "      <th>3</th>\n",
       "      <td>[\"1\\nlabcorp10k.htm\\n\\n\\n\\n \\n\\n\\nUNITED STATE...</td>\n",
       "      <td>3</td>\n",
       "    </tr>\n",
       "    <tr>\n",
       "      <th>4</th>\n",
       "      <td>['1\\nh18314e10vk.txt\\nSYSCO CORPORATION - JULY...</td>\n",
       "      <td>4</td>\n",
       "    </tr>\n",
       "  </tbody>\n",
       "</table>\n",
       "</div>"
      ],
      "text/plain": [
       "                                            sentence  id\n",
       "0  ['1\\nd271667d10k.htm\\nFORM 10-K\\n\\n\\nForm 10-K...   0\n",
       "1  ['1\\n10-K\\n\\n\\n\\n\\n                           ...   1\n",
       "2  [\"1\\nl86830ae10-k.htm\\nRANGE RESOURCES CORPORA...   2\n",
       "3  [\"1\\nlabcorp10k.htm\\n\\n\\n\\n \\n\\n\\nUNITED STATE...   3\n",
       "4  ['1\\nh18314e10vk.txt\\nSYSCO CORPORATION - JULY...   4"
      ]
     },
     "execution_count": 7,
     "metadata": {},
     "output_type": "execute_result"
    }
   ],
   "source": [
    "wdata.head()"
   ]
  },
  {
   "cell_type": "code",
   "execution_count": 8,
   "metadata": {
    "colab": {
     "base_uri": "https://localhost:8080/",
     "height": 34
    },
    "colab_type": "code",
    "executionInfo": {
     "elapsed": 8404,
     "status": "ok",
     "timestamp": 1571030668785,
     "user": {
      "displayName": "Deepak Gupta",
      "photoUrl": "https://lh3.googleusercontent.com/a-/AAuE7mBfdBpsCi4UwiM8oFrxdyG0VHNBjAl3xyuOzWnzVg=s64",
      "userId": "15678042378023801369"
     },
     "user_tz": -330
    },
    "id": "wfL-V0naNvk6",
    "outputId": "cd0d30f4-edc4-43e7-ed3e-e41fd8440d78"
   },
   "outputs": [
    {
     "data": {
      "text/plain": [
       "'%%time\\nwdata[\"clean_text\"] = wdata[\"sentence\"].apply(remove_html_tags)'"
      ]
     },
     "execution_count": 8,
     "metadata": {},
     "output_type": "execute_result"
    }
   ],
   "source": [
    "'''%%time\n",
    "wdata[\"clean_text\"] = wdata[\"sentence\"].apply(remove_html_tags)'''"
   ]
  },
  {
   "cell_type": "code",
   "execution_count": 9,
   "metadata": {
    "colab": {
     "base_uri": "https://localhost:8080/",
     "height": 204
    },
    "colab_type": "code",
    "executionInfo": {
     "elapsed": 8394,
     "status": "ok",
     "timestamp": 1571030668786,
     "user": {
      "displayName": "Deepak Gupta",
      "photoUrl": "https://lh3.googleusercontent.com/a-/AAuE7mBfdBpsCi4UwiM8oFrxdyG0VHNBjAl3xyuOzWnzVg=s64",
      "userId": "15678042378023801369"
     },
     "user_tz": -330
    },
    "id": "zkBdLJU_Nvk7",
    "outputId": "0f50e7f9-15c3-4524-8e88-cb538533d5fa"
   },
   "outputs": [
    {
     "data": {
      "text/html": [
       "<div>\n",
       "<style scoped>\n",
       "    .dataframe tbody tr th:only-of-type {\n",
       "        vertical-align: middle;\n",
       "    }\n",
       "\n",
       "    .dataframe tbody tr th {\n",
       "        vertical-align: top;\n",
       "    }\n",
       "\n",
       "    .dataframe thead th {\n",
       "        text-align: right;\n",
       "    }\n",
       "</style>\n",
       "<table border=\"1\" class=\"dataframe\">\n",
       "  <thead>\n",
       "    <tr style=\"text-align: right;\">\n",
       "      <th></th>\n",
       "      <th>sentence</th>\n",
       "      <th>id</th>\n",
       "    </tr>\n",
       "  </thead>\n",
       "  <tbody>\n",
       "    <tr>\n",
       "      <th>0</th>\n",
       "      <td>['1\\nd271667d10k.htm\\nFORM 10-K\\n\\n\\nForm 10-K...</td>\n",
       "      <td>0</td>\n",
       "    </tr>\n",
       "    <tr>\n",
       "      <th>1</th>\n",
       "      <td>['1\\n10-K\\n\\n\\n\\n\\n                           ...</td>\n",
       "      <td>1</td>\n",
       "    </tr>\n",
       "    <tr>\n",
       "      <th>2</th>\n",
       "      <td>[\"1\\nl86830ae10-k.htm\\nRANGE RESOURCES CORPORA...</td>\n",
       "      <td>2</td>\n",
       "    </tr>\n",
       "    <tr>\n",
       "      <th>3</th>\n",
       "      <td>[\"1\\nlabcorp10k.htm\\n\\n\\n\\n \\n\\n\\nUNITED STATE...</td>\n",
       "      <td>3</td>\n",
       "    </tr>\n",
       "    <tr>\n",
       "      <th>4</th>\n",
       "      <td>['1\\nh18314e10vk.txt\\nSYSCO CORPORATION - JULY...</td>\n",
       "      <td>4</td>\n",
       "    </tr>\n",
       "  </tbody>\n",
       "</table>\n",
       "</div>"
      ],
      "text/plain": [
       "                                            sentence  id\n",
       "0  ['1\\nd271667d10k.htm\\nFORM 10-K\\n\\n\\nForm 10-K...   0\n",
       "1  ['1\\n10-K\\n\\n\\n\\n\\n                           ...   1\n",
       "2  [\"1\\nl86830ae10-k.htm\\nRANGE RESOURCES CORPORA...   2\n",
       "3  [\"1\\nlabcorp10k.htm\\n\\n\\n\\n \\n\\n\\nUNITED STATE...   3\n",
       "4  ['1\\nh18314e10vk.txt\\nSYSCO CORPORATION - JULY...   4"
      ]
     },
     "execution_count": 9,
     "metadata": {},
     "output_type": "execute_result"
    }
   ],
   "source": [
    "wdata.head()"
   ]
  },
  {
   "cell_type": "markdown",
   "metadata": {
    "colab_type": "text",
    "id": "6kMp6Ue1k_RK"
   },
   "source": [
    "# 4. FEATURE EXTRACTION Regular Expression"
   ]
  },
  {
   "cell_type": "code",
   "execution_count": 10,
   "metadata": {
    "colab": {},
    "colab_type": "code",
    "id": "PsYaO3QZefAg"
   },
   "outputs": [],
   "source": [
    "look_up = {'BUSINESS': r'ITEM.{,80}BUSINESS(.*?)ITEM.?\\d',\n",
    "          'RISK FACTORS': r'ITEM.{,80}RISK.{,3}FACTORS(.*?)ITEM.?\\d',\n",
    "          'SELECTED FINANCIAL DATA': r'ITEM.{,80}SELECTED.{,3}(?:CONSOLIDATED.{,3})?FINANCIAL.{,3}DATA(.*?)ITEM.?\\d',\n",
    "          'MDA': r'ITEM.{,80}MANAGEMENT.*DISCUSSION.{,3}AND.{,3}ANALYSIS.{,3}OF.{,3}FINANCIAL.{,3}CONDITION.{,3}AND.{,3}RESULTS.{,3}OF.{,3}OPERATIONS(.*?)ITEM.?\\d',\n",
    "          'FSS': r'ITEM.{,80}FINANCIAL.*STATEMENTS.{,3}AND.{,3}SUPPLEMENTARY.{,3}DATA(.*?)ITEM.?\\d'}"
   ]
  },
  {
   "cell_type": "code",
   "execution_count": 11,
   "metadata": {
    "colab": {
     "base_uri": "https://localhost:8080/",
     "height": 34
    },
    "colab_type": "code",
    "executionInfo": {
     "elapsed": 8376,
     "status": "ok",
     "timestamp": 1571030668786,
     "user": {
      "displayName": "Deepak Gupta",
      "photoUrl": "https://lh3.googleusercontent.com/a-/AAuE7mBfdBpsCi4UwiM8oFrxdyG0VHNBjAl3xyuOzWnzVg=s64",
      "userId": "15678042378023801369"
     },
     "user_tz": -330
    },
    "id": "1ir8zXSXPKJq",
    "outputId": "e85a86e9-801e-4534-89a7-1a9db70093aa"
   },
   "outputs": [
    {
     "name": "stdout",
     "output_type": "stream",
     "text": [
      "Updated Sucessfully!\n"
     ]
    }
   ],
   "source": [
    "def update_filter_dic(data):\n",
    "    if filter_dic.get('BUSINESS'):\n",
    "        b = filter_dic.get('BUSINESS')\n",
    "        r = filter_dic.get('RISK FACTORS')\n",
    "        s = filter_dic.get('SELECTED FINANCIAL DATA')\n",
    "        m = filter_dic.get('MDA')\n",
    "        f = filter_dic.get('FSS')\n",
    "    else:\n",
    "        b,r,s,m,f = [],[],[],[],[]\n",
    "    b.append(data['BUSINESS'])\n",
    "    r.append(data['RISK FACTORS'])\n",
    "    s.append(data['SELECTED FINANCIAL DATA'])\n",
    "    m.append(data['MDA'])\n",
    "    f.append(data['FSS'])\n",
    "    filter_dic['BUSINESS'] = b.copy()\n",
    "    filter_dic['RISK FACTORS'] = r.copy()\n",
    "    filter_dic['SELECTED FINANCIAL DATA'] = s.copy()\n",
    "    filter_dic['MDA'] = m.copy()\n",
    "    filter_dic['FSS'] = f.copy()\n",
    "print(\"Updated Sucessfully!\")"
   ]
  },
  {
   "cell_type": "code",
   "execution_count": 12,
   "metadata": {
    "colab": {},
    "colab_type": "code",
    "id": "4IIuEsNsou55"
   },
   "outputs": [],
   "source": [
    "def parse_data(data_web):\n",
    "    return_data = {}\n",
    "    data_web = data_web.replace(\"xa0\",'')\n",
    "    for item,pattern in look_up.items():\n",
    "        return_data[item]=''\n",
    "        filter_data=re.findall(pattern,data_web,re.IGNORECASE | re.DOTALL | re.MULTILINE)\n",
    "        if item == \"BUSINESS\":\n",
    "          if len(filter_data)>=1:\n",
    "            return_data[item] = filter_data\n",
    "          else:\n",
    "            if len(data_web)>=30000:\n",
    "              return_data[item] = [data_web[5000:15000]]\n",
    "            else :\n",
    "              return_data[item] = [data_web[0:3000]]\n",
    "        elif item == 'RISK FACTORS':\n",
    "          if len(filter_data)>=1:\n",
    "            return_data[item] = filter_data\n",
    "          else:\n",
    "            if len(data_web)>=30000:\n",
    "              return_data[item] = [data_web[5000:15000]]\n",
    "            else:\n",
    "              return_data[item] = [data_web[3000:6000]]\n",
    "        elif item == 'SELECTED FINANCIAL DATA':\n",
    "          if len(filter_data)>=1:\n",
    "            return_data[item] = filter_data\n",
    "          else:\n",
    "            if len(data_web)>=10000:\n",
    "              return_data[item] = [data_web[8000:12000]]\n",
    "            else:\n",
    "              return_data[item] = [data_web[3000:6000]]  \n",
    "        elif item == 'MDA':\n",
    "          if len(filter_data)>=1:\n",
    "            return_data[item] = filter_data\n",
    "          else:\n",
    "            if len(data_web)>=10000:\n",
    "              return_data[item] = [data_web[8000:12000]]\n",
    "            else:\n",
    "              return_data[item] = [data_web[6000:8000]] \n",
    "        else :\n",
    "          if len(filter_data)>=1:\n",
    "            return_data[item] = filter_data\n",
    "          else:\n",
    "            if len(data_web)>=10000:\n",
    "              return_data[item] = [data_web[8000:12000]]\n",
    "            else:\n",
    "              return_data[item] = [data_web[3000:6000]]               \n",
    "\n",
    "    return return_data"
   ]
  },
  {
   "cell_type": "code",
   "execution_count": 13,
   "metadata": {
    "colab": {
     "base_uri": "https://localhost:8080/",
     "height": 51
    },
    "colab_type": "code",
    "executionInfo": {
     "elapsed": 67457,
     "status": "ok",
     "timestamp": 1571030727883,
     "user": {
      "displayName": "Deepak Gupta",
      "photoUrl": "https://lh3.googleusercontent.com/a-/AAuE7mBfdBpsCi4UwiM8oFrxdyG0VHNBjAl3xyuOzWnzVg=s64",
      "userId": "15678042378023801369"
     },
     "user_tz": -330
    },
    "id": "AmhxH87zou_S",
    "outputId": "e9e42261-0e6f-4993-9939-b98f9087444f"
   },
   "outputs": [
    {
     "name": "stdout",
     "output_type": "stream",
     "text": [
      "Wall time: 36.9 s\n"
     ]
    }
   ],
   "source": [
    "%%time\n",
    "g= []\n",
    "for t in wdata[\"sentence\"]:\n",
    "    tm = parse_data(t)\n",
    "    g.append(tm.copy())"
   ]
  },
  {
   "cell_type": "code",
   "execution_count": 14,
   "metadata": {
    "colab": {},
    "colab_type": "code",
    "id": "oLaeFxghovFQ"
   },
   "outputs": [],
   "source": [
    "filter_dic = {'BUSINESS':None,'RISK FACTORS':None,'SELECTED FINANCIAL DATA':None,'MDA':None,'FSS':None}"
   ]
  },
  {
   "cell_type": "code",
   "execution_count": 15,
   "metadata": {
    "colab": {},
    "colab_type": "code",
    "id": "2JMOULTFovKL"
   },
   "outputs": [],
   "source": [
    "for k in g:\n",
    "    update_filter_dic(k)"
   ]
  },
  {
   "cell_type": "code",
   "execution_count": 16,
   "metadata": {
    "colab": {},
    "colab_type": "code",
    "id": "XZVgn7g0ovQl"
   },
   "outputs": [],
   "source": [
    "ext_data = pd.DataFrame(filter_dic)"
   ]
  },
  {
   "cell_type": "code",
   "execution_count": 18,
   "metadata": {
    "colab": {
     "base_uri": "https://localhost:8080/",
     "height": 289
    },
    "colab_type": "code",
    "executionInfo": {
     "elapsed": 67431,
     "status": "ok",
     "timestamp": 1571030727895,
     "user": {
      "displayName": "Deepak Gupta",
      "photoUrl": "https://lh3.googleusercontent.com/a-/AAuE7mBfdBpsCi4UwiM8oFrxdyG0VHNBjAl3xyuOzWnzVg=s64",
      "userId": "15678042378023801369"
     },
     "user_tz": -330
    },
    "id": "OIwddSQkovaj",
    "outputId": "adab72f0-4471-4761-d99e-3a622d8193af"
   },
   "outputs": [
    {
     "data": {
      "text/html": [
       "<div>\n",
       "<style scoped>\n",
       "    .dataframe tbody tr th:only-of-type {\n",
       "        vertical-align: middle;\n",
       "    }\n",
       "\n",
       "    .dataframe tbody tr th {\n",
       "        vertical-align: top;\n",
       "    }\n",
       "\n",
       "    .dataframe thead th {\n",
       "        text-align: right;\n",
       "    }\n",
       "</style>\n",
       "<table border=\"1\" class=\"dataframe\">\n",
       "  <thead>\n",
       "    <tr style=\"text-align: right;\">\n",
       "      <th></th>\n",
       "      <th>BUSINESS</th>\n",
       "      <th>RISK FACTORS</th>\n",
       "      <th>SELECTED FINANCIAL DATA</th>\n",
       "      <th>MDA</th>\n",
       "      <th>FSS</th>\n",
       "    </tr>\n",
       "  </thead>\n",
       "  <tbody>\n",
       "    <tr>\n",
       "      <th>0</th>\n",
       "      <td>[\\n\\\\\\n\\\\n3\\n\\\\\\n\\n ,  OVERVIEW  General Dynam...</td>\n",
       "      <td>[\\n\\\\\\n\\\\n14\\n\\\\\\n\\n ,   An investment in our ...</td>\n",
       "      <td>[\\n\\\\\\n\\\\n18\\n\\\\\\n\\n ,   The following table p...</td>\n",
       "      <td>[ is based on our Consolidated Financial State...</td>\n",
       "      <td>[  CONSOLIDATED STATEMENT OF EARNINGS\\n \\\\n\\n\\...</td>\n",
       "    </tr>\n",
       "    <tr>\n",
       "      <th>1</th>\n",
       "      <td>[.                                            ...</td>\n",
       "      <td>[   58\\n\\n        C.     Risk elements\\n      ...</td>\n",
       "      <td>[.\\n\\n         A.    Selected consolidated yea...</td>\n",
       "      <td>[\". The Company\\'s international activities ar...</td>\n",
       "      <td>[.\"\\n\\n                    Financial statement...</td>\n",
       "    </tr>\n",
       "    <tr>\n",
       "      <th>2</th>\n",
       "      <td>[\\n, \\nGeneral\\n\\\\\\\\\\\\Range Resources Corporat...</td>\n",
       "      <td>[ovides financing to small oil and gas produce...</td>\n",
       "      <td>[\\n, \\n\\\\\\\\\\\\The following table presents sele...</td>\n",
       "      <td>[ (Capitalized terms herein are defined in the...</td>\n",
       "      <td>[\\n\\\\\\\\\\\\Reference is made to the Index to Fin...</td>\n",
       "    </tr>\n",
       "    <tr>\n",
       "      <th>3</th>\n",
       "      <td>[ \\n\\n4  \\n\\n\\n\\n\\n\\n\\ \\n\\nThe Clinical Labora...</td>\n",
       "      <td>[ \\n\\n22  \\n\\n\\n\\n\\n\\n,  \\n\\\\nRisks Associated...</td>\n",
       "      <td>[ \\n\\n34  \\n\\n\\n\\n\\n\\n,  presented below under...</td>\n",
       "      <td>[,” all included elsewhere herein.\\n\\\\n\\n\\n\\nY...</td>\n",
       "      <td>[  \\n\\n\\\\n\\n\\n\\n\\n\\ \\n\\nReference is made to t...</td>\n",
       "    </tr>\n",
       "    <tr>\n",
       "      <th>4</th>\n",
       "      <td>[................................................</td>\n",
       "      <td>[1\\nItem 7A.  Quantitative and Qualitative Dis...</td>\n",
       "      <td>[.....................................     10\\...</td>\n",
       "      <td>[mical products distributor\\nReed Distributors...</td>\n",
       "      <td>[\\n\\n                       SYSCO CORPORATION ...</td>\n",
       "    </tr>\n",
       "  </tbody>\n",
       "</table>\n",
       "</div>"
      ],
      "text/plain": [
       "                                            BUSINESS  \\\n",
       "0  [\\n\\\\\\n\\\\n3\\n\\\\\\n\\n ,  OVERVIEW  General Dynam...   \n",
       "1  [.                                            ...   \n",
       "2  [\\n, \\nGeneral\\n\\\\\\\\\\\\Range Resources Corporat...   \n",
       "3  [ \\n\\n4  \\n\\n\\n\\n\\n\\n\\ \\n\\nThe Clinical Labora...   \n",
       "4  [................................................   \n",
       "\n",
       "                                        RISK FACTORS  \\\n",
       "0  [\\n\\\\\\n\\\\n14\\n\\\\\\n\\n ,   An investment in our ...   \n",
       "1  [   58\\n\\n        C.     Risk elements\\n      ...   \n",
       "2  [ovides financing to small oil and gas produce...   \n",
       "3  [ \\n\\n22  \\n\\n\\n\\n\\n\\n,  \\n\\\\nRisks Associated...   \n",
       "4  [1\\nItem 7A.  Quantitative and Qualitative Dis...   \n",
       "\n",
       "                             SELECTED FINANCIAL DATA  \\\n",
       "0  [\\n\\\\\\n\\\\n18\\n\\\\\\n\\n ,   The following table p...   \n",
       "1  [.\\n\\n         A.    Selected consolidated yea...   \n",
       "2  [\\n, \\n\\\\\\\\\\\\The following table presents sele...   \n",
       "3  [ \\n\\n34  \\n\\n\\n\\n\\n\\n,  presented below under...   \n",
       "4  [.....................................     10\\...   \n",
       "\n",
       "                                                 MDA  \\\n",
       "0  [ is based on our Consolidated Financial State...   \n",
       "1  [\". The Company\\'s international activities ar...   \n",
       "2  [ (Capitalized terms herein are defined in the...   \n",
       "3  [,” all included elsewhere herein.\\n\\\\n\\n\\n\\nY...   \n",
       "4  [mical products distributor\\nReed Distributors...   \n",
       "\n",
       "                                                 FSS  \n",
       "0  [  CONSOLIDATED STATEMENT OF EARNINGS\\n \\\\n\\n\\...  \n",
       "1  [.\"\\n\\n                    Financial statement...  \n",
       "2  [\\n\\\\\\\\\\\\Reference is made to the Index to Fin...  \n",
       "3  [  \\n\\n\\\\n\\n\\n\\n\\n\\ \\n\\nReference is made to t...  \n",
       "4  [\\n\\n                       SYSCO CORPORATION ...  "
      ]
     },
     "execution_count": 18,
     "metadata": {},
     "output_type": "execute_result"
    }
   ],
   "source": [
    "ext_data.head()"
   ]
  },
  {
   "cell_type": "markdown",
   "metadata": {
    "colab_type": "text",
    "id": "_Wzzkx97Nvle"
   },
   "source": [
    " # 5. Merge the Original Data and Analysis Filter"
   ]
  },
  {
   "cell_type": "code",
   "execution_count": 19,
   "metadata": {
    "colab": {},
    "colab_type": "code",
    "id": "AGCuglvVNvl3"
   },
   "outputs": [],
   "source": [
    "final =pd.concat([data,ext_data],axis=1)"
   ]
  },
  {
   "cell_type": "code",
   "execution_count": 20,
   "metadata": {
    "colab": {
     "base_uri": "https://localhost:8080/",
     "height": 340
    },
    "colab_type": "code",
    "executionInfo": {
     "elapsed": 67412,
     "status": "ok",
     "timestamp": 1571030727896,
     "user": {
      "displayName": "Deepak Gupta",
      "photoUrl": "https://lh3.googleusercontent.com/a-/AAuE7mBfdBpsCi4UwiM8oFrxdyG0VHNBjAl3xyuOzWnzVg=s64",
      "userId": "15678042378023801369"
     },
     "user_tz": -330
    },
    "id": "ip2XHK6JNvl4",
    "outputId": "0cd2bc97-f362-481e-eff9-50a33570915d"
   },
   "outputs": [
    {
     "data": {
      "text/html": [
       "<div>\n",
       "<style scoped>\n",
       "    .dataframe tbody tr th:only-of-type {\n",
       "        vertical-align: middle;\n",
       "    }\n",
       "\n",
       "    .dataframe tbody tr th {\n",
       "        vertical-align: top;\n",
       "    }\n",
       "\n",
       "    .dataframe thead th {\n",
       "        text-align: right;\n",
       "    }\n",
       "</style>\n",
       "<table border=\"1\" class=\"dataframe\">\n",
       "  <thead>\n",
       "    <tr style=\"text-align: right;\">\n",
       "      <th></th>\n",
       "      <th>ticker</th>\n",
       "      <th>cik</th>\n",
       "      <th>filing_date</th>\n",
       "      <th>sentence</th>\n",
       "      <th>id</th>\n",
       "      <th>BUSINESS</th>\n",
       "      <th>RISK FACTORS</th>\n",
       "      <th>SELECTED FINANCIAL DATA</th>\n",
       "      <th>MDA</th>\n",
       "      <th>FSS</th>\n",
       "    </tr>\n",
       "  </thead>\n",
       "  <tbody>\n",
       "    <tr>\n",
       "      <th>0</th>\n",
       "      <td>GD</td>\n",
       "      <td>40533</td>\n",
       "      <td>2/17/2012</td>\n",
       "      <td>['1\\nd271667d10k.htm\\nFORM 10-K\\n\\n\\nForm 10-K...</td>\n",
       "      <td>0</td>\n",
       "      <td>[\\n\\\\\\n\\\\n3\\n\\\\\\n\\n ,  OVERVIEW  General Dynam...</td>\n",
       "      <td>[\\n\\\\\\n\\\\n14\\n\\\\\\n\\n ,   An investment in our ...</td>\n",
       "      <td>[\\n\\\\\\n\\\\n18\\n\\\\\\n\\n ,   The following table p...</td>\n",
       "      <td>[ is based on our Consolidated Financial State...</td>\n",
       "      <td>[  CONSOLIDATED STATEMENT OF EARNINGS\\n \\\\n\\n\\...</td>\n",
       "    </tr>\n",
       "    <tr>\n",
       "      <th>1</th>\n",
       "      <td>MTB</td>\n",
       "      <td>36270</td>\n",
       "      <td>3/19/1999</td>\n",
       "      <td>['1\\n10-K\\n\\n\\n\\n\\n                           ...</td>\n",
       "      <td>1</td>\n",
       "      <td>[.                                            ...</td>\n",
       "      <td>[   58\\n\\n        C.     Risk elements\\n      ...</td>\n",
       "      <td>[.\\n\\n         A.    Selected consolidated yea...</td>\n",
       "      <td>[\". The Company\\'s international activities ar...</td>\n",
       "      <td>[.\"\\n\\n                    Financial statement...</td>\n",
       "    </tr>\n",
       "    <tr>\n",
       "      <th>2</th>\n",
       "      <td>RRC</td>\n",
       "      <td>315852</td>\n",
       "      <td>3/6/2001</td>\n",
       "      <td>[\"1\\nl86830ae10-k.htm\\nRANGE RESOURCES CORPORA...</td>\n",
       "      <td>2</td>\n",
       "      <td>[\\n, \\nGeneral\\n\\\\\\\\\\\\Range Resources Corporat...</td>\n",
       "      <td>[ovides financing to small oil and gas produce...</td>\n",
       "      <td>[\\n, \\n\\\\\\\\\\\\The following table presents sele...</td>\n",
       "      <td>[ (Capitalized terms herein are defined in the...</td>\n",
       "      <td>[\\n\\\\\\\\\\\\Reference is made to the Index to Fin...</td>\n",
       "    </tr>\n",
       "    <tr>\n",
       "      <th>3</th>\n",
       "      <td>LH</td>\n",
       "      <td>920148</td>\n",
       "      <td>2/26/2009</td>\n",
       "      <td>[\"1\\nlabcorp10k.htm\\n\\n\\n\\n \\n\\n\\nUNITED STATE...</td>\n",
       "      <td>3</td>\n",
       "      <td>[ \\n\\n4  \\n\\n\\n\\n\\n\\n\\ \\n\\nThe Clinical Labora...</td>\n",
       "      <td>[ \\n\\n22  \\n\\n\\n\\n\\n\\n,  \\n\\\\nRisks Associated...</td>\n",
       "      <td>[ \\n\\n34  \\n\\n\\n\\n\\n\\n,  presented below under...</td>\n",
       "      <td>[,” all included elsewhere herein.\\n\\\\n\\n\\n\\nY...</td>\n",
       "      <td>[  \\n\\n\\\\n\\n\\n\\n\\n\\ \\n\\nReference is made to t...</td>\n",
       "    </tr>\n",
       "    <tr>\n",
       "      <th>4</th>\n",
       "      <td>SYY</td>\n",
       "      <td>96021</td>\n",
       "      <td>9/16/2004</td>\n",
       "      <td>['1\\nh18314e10vk.txt\\nSYSCO CORPORATION - JULY...</td>\n",
       "      <td>4</td>\n",
       "      <td>[................................................</td>\n",
       "      <td>[1\\nItem 7A.  Quantitative and Qualitative Dis...</td>\n",
       "      <td>[.....................................     10\\...</td>\n",
       "      <td>[mical products distributor\\nReed Distributors...</td>\n",
       "      <td>[\\n\\n                       SYSCO CORPORATION ...</td>\n",
       "    </tr>\n",
       "  </tbody>\n",
       "</table>\n",
       "</div>"
      ],
      "text/plain": [
       "  ticker     cik filing_date  \\\n",
       "0     GD   40533   2/17/2012   \n",
       "1    MTB   36270   3/19/1999   \n",
       "2    RRC  315852    3/6/2001   \n",
       "3     LH  920148   2/26/2009   \n",
       "4    SYY   96021   9/16/2004   \n",
       "\n",
       "                                            sentence  id  \\\n",
       "0  ['1\\nd271667d10k.htm\\nFORM 10-K\\n\\n\\nForm 10-K...   0   \n",
       "1  ['1\\n10-K\\n\\n\\n\\n\\n                           ...   1   \n",
       "2  [\"1\\nl86830ae10-k.htm\\nRANGE RESOURCES CORPORA...   2   \n",
       "3  [\"1\\nlabcorp10k.htm\\n\\n\\n\\n \\n\\n\\nUNITED STATE...   3   \n",
       "4  ['1\\nh18314e10vk.txt\\nSYSCO CORPORATION - JULY...   4   \n",
       "\n",
       "                                            BUSINESS  \\\n",
       "0  [\\n\\\\\\n\\\\n3\\n\\\\\\n\\n ,  OVERVIEW  General Dynam...   \n",
       "1  [.                                            ...   \n",
       "2  [\\n, \\nGeneral\\n\\\\\\\\\\\\Range Resources Corporat...   \n",
       "3  [ \\n\\n4  \\n\\n\\n\\n\\n\\n\\ \\n\\nThe Clinical Labora...   \n",
       "4  [................................................   \n",
       "\n",
       "                                        RISK FACTORS  \\\n",
       "0  [\\n\\\\\\n\\\\n14\\n\\\\\\n\\n ,   An investment in our ...   \n",
       "1  [   58\\n\\n        C.     Risk elements\\n      ...   \n",
       "2  [ovides financing to small oil and gas produce...   \n",
       "3  [ \\n\\n22  \\n\\n\\n\\n\\n\\n,  \\n\\\\nRisks Associated...   \n",
       "4  [1\\nItem 7A.  Quantitative and Qualitative Dis...   \n",
       "\n",
       "                             SELECTED FINANCIAL DATA  \\\n",
       "0  [\\n\\\\\\n\\\\n18\\n\\\\\\n\\n ,   The following table p...   \n",
       "1  [.\\n\\n         A.    Selected consolidated yea...   \n",
       "2  [\\n, \\n\\\\\\\\\\\\The following table presents sele...   \n",
       "3  [ \\n\\n34  \\n\\n\\n\\n\\n\\n,  presented below under...   \n",
       "4  [.....................................     10\\...   \n",
       "\n",
       "                                                 MDA  \\\n",
       "0  [ is based on our Consolidated Financial State...   \n",
       "1  [\". The Company\\'s international activities ar...   \n",
       "2  [ (Capitalized terms herein are defined in the...   \n",
       "3  [,” all included elsewhere herein.\\n\\\\n\\n\\n\\nY...   \n",
       "4  [mical products distributor\\nReed Distributors...   \n",
       "\n",
       "                                                 FSS  \n",
       "0  [  CONSOLIDATED STATEMENT OF EARNINGS\\n \\\\n\\n\\...  \n",
       "1  [.\"\\n\\n                    Financial statement...  \n",
       "2  [\\n\\\\\\\\\\\\Reference is made to the Index to Fin...  \n",
       "3  [  \\n\\n\\\\n\\n\\n\\n\\n\\ \\n\\nReference is made to t...  \n",
       "4  [\\n\\n                       SYSCO CORPORATION ...  "
      ]
     },
     "execution_count": 20,
     "metadata": {},
     "output_type": "execute_result"
    }
   ],
   "source": [
    "final.head()"
   ]
  },
  {
   "cell_type": "code",
   "execution_count": 21,
   "metadata": {
    "colab": {
     "base_uri": "https://localhost:8080/",
     "height": 204
    },
    "colab_type": "code",
    "executionInfo": {
     "elapsed": 67403,
     "status": "ok",
     "timestamp": 1571030727896,
     "user": {
      "displayName": "Deepak Gupta",
      "photoUrl": "https://lh3.googleusercontent.com/a-/AAuE7mBfdBpsCi4UwiM8oFrxdyG0VHNBjAl3xyuOzWnzVg=s64",
      "userId": "15678042378023801369"
     },
     "user_tz": -330
    },
    "id": "WLbFg7pSNvl8",
    "outputId": "043326ad-7636-4559-b773-a8fc87a61379"
   },
   "outputs": [
    {
     "data": {
      "text/plain": [
       "ticker                     0\n",
       "cik                        0\n",
       "filing_date                0\n",
       "sentence                   0\n",
       "id                         0\n",
       "BUSINESS                   0\n",
       "RISK FACTORS               0\n",
       "SELECTED FINANCIAL DATA    0\n",
       "MDA                        0\n",
       "FSS                        0\n",
       "dtype: int64"
      ]
     },
     "execution_count": 21,
     "metadata": {},
     "output_type": "execute_result"
    }
   ],
   "source": [
    "final.isna().sum()"
   ]
  },
  {
   "cell_type": "code",
   "execution_count": 22,
   "metadata": {
    "colab": {
     "base_uri": "https://localhost:8080/",
     "height": 34
    },
    "colab_type": "code",
    "executionInfo": {
     "elapsed": 67395,
     "status": "ok",
     "timestamp": 1571030727896,
     "user": {
      "displayName": "Deepak Gupta",
      "photoUrl": "https://lh3.googleusercontent.com/a-/AAuE7mBfdBpsCi4UwiM8oFrxdyG0VHNBjAl3xyuOzWnzVg=s64",
      "userId": "15678042378023801369"
     },
     "user_tz": -330
    },
    "id": "nj69UalzNvl-",
    "outputId": "fd240813-b947-43bf-f824-7ae354518cea"
   },
   "outputs": [
    {
     "data": {
      "text/plain": [
       "(840, 10)"
      ]
     },
     "execution_count": 22,
     "metadata": {},
     "output_type": "execute_result"
    }
   ],
   "source": [
    "final.shape"
   ]
  },
  {
   "cell_type": "code",
   "execution_count": 23,
   "metadata": {
    "colab": {
     "base_uri": "https://localhost:8080/",
     "height": 68
    },
    "colab_type": "code",
    "executionInfo": {
     "elapsed": 67386,
     "status": "ok",
     "timestamp": 1571030727897,
     "user": {
      "displayName": "Deepak Gupta",
      "photoUrl": "https://lh3.googleusercontent.com/a-/AAuE7mBfdBpsCi4UwiM8oFrxdyG0VHNBjAl3xyuOzWnzVg=s64",
      "userId": "15678042378023801369"
     },
     "user_tz": -330
    },
    "id": "ZPultsYvNvmR",
    "outputId": "fc0931db-9fa3-4ebd-a8e8-033180b1e045"
   },
   "outputs": [
    {
     "data": {
      "text/plain": [
       "Index(['ticker', 'cik', 'filing_date', 'sentence', 'id', 'BUSINESS',\n",
       "       'RISK FACTORS', 'SELECTED FINANCIAL DATA', 'MDA', 'FSS'],\n",
       "      dtype='object')"
      ]
     },
     "execution_count": 23,
     "metadata": {},
     "output_type": "execute_result"
    }
   ],
   "source": [
    "final.columns"
   ]
  },
  {
   "cell_type": "code",
   "execution_count": 24,
   "metadata": {
    "colab": {
     "base_uri": "https://localhost:8080/",
     "height": 51
    },
    "colab_type": "code",
    "executionInfo": {
     "elapsed": 82681,
     "status": "ok",
     "timestamp": 1571030743200,
     "user": {
      "displayName": "Deepak Gupta",
      "photoUrl": "https://lh3.googleusercontent.com/a-/AAuE7mBfdBpsCi4UwiM8oFrxdyG0VHNBjAl3xyuOzWnzVg=s64",
      "userId": "15678042378023801369"
     },
     "user_tz": -330
    },
    "id": "xRbXLEFZNvmZ",
    "outputId": "e2c91b77-fe7b-4870-e78a-700165ec77b0"
   },
   "outputs": [
    {
     "name": "stdout",
     "output_type": "stream",
     "text": [
      "Wall time: 8.05 s\n"
     ]
    }
   ],
   "source": [
    "%%time\n",
    "#final.to_csv(\"/content/drive/My Drive/PHD/Test_Data_With_Sentence.csv\",index=False)\n",
    "final.to_csv(\"Test_Data_With_Sentence.csv\",index=False)"
   ]
  },
  {
   "cell_type": "code",
   "execution_count": 25,
   "metadata": {
    "colab": {},
    "colab_type": "code",
    "id": "hjqIwkQVNvma"
   },
   "outputs": [],
   "source": [
    "final.drop(columns=['sentence'],inplace=True)"
   ]
  },
  {
   "cell_type": "code",
   "execution_count": 26,
   "metadata": {
    "colab": {
     "base_uri": "https://localhost:8080/",
     "height": 51
    },
    "colab_type": "code",
    "executionInfo": {
     "elapsed": 88163,
     "status": "ok",
     "timestamp": 1571030748703,
     "user": {
      "displayName": "Deepak Gupta",
      "photoUrl": "https://lh3.googleusercontent.com/a-/AAuE7mBfdBpsCi4UwiM8oFrxdyG0VHNBjAl3xyuOzWnzVg=s64",
      "userId": "15678042378023801369"
     },
     "user_tz": -330
    },
    "id": "ruRsa2WKNvmb",
    "outputId": "a4ba76a9-681f-41ec-dd7c-a35a044ffcab"
   },
   "outputs": [
    {
     "name": "stdout",
     "output_type": "stream",
     "text": [
      "Wall time: 2.48 s\n"
     ]
    }
   ],
   "source": [
    "%%time\n",
    "#final.to_csv(\"/content/drive/My Drive/PHD/Test_Data.csv\",index=False)\n",
    "final.to_csv(\"Test_Data.csv\",index=False)"
   ]
  },
  {
   "cell_type": "code",
   "execution_count": 27,
   "metadata": {
    "colab": {},
    "colab_type": "code",
    "id": "a2TjknVxNvme"
   },
   "outputs": [],
   "source": [
    "train_data=final.loc[(final['BUSINESS']!=\"\") & (final['RISK FACTORS']!=\"\") & (final['SELECTED FINANCIAL DATA']!=\"\") & (final['MDA']!=\"\") & (final['FSS']!=\"\")]"
   ]
  },
  {
   "cell_type": "code",
   "execution_count": 29,
   "metadata": {
    "colab": {
     "base_uri": "https://localhost:8080/",
     "height": 289
    },
    "colab_type": "code",
    "executionInfo": {
     "elapsed": 88137,
     "status": "ok",
     "timestamp": 1571030748705,
     "user": {
      "displayName": "Deepak Gupta",
      "photoUrl": "https://lh3.googleusercontent.com/a-/AAuE7mBfdBpsCi4UwiM8oFrxdyG0VHNBjAl3xyuOzWnzVg=s64",
      "userId": "15678042378023801369"
     },
     "user_tz": -330
    },
    "id": "bJVWX9W-Nvmi",
    "outputId": "d8f52386-0d27-47c2-c409-e41ef8c7d0d6"
   },
   "outputs": [
    {
     "data": {
      "text/html": [
       "<div>\n",
       "<style scoped>\n",
       "    .dataframe tbody tr th:only-of-type {\n",
       "        vertical-align: middle;\n",
       "    }\n",
       "\n",
       "    .dataframe tbody tr th {\n",
       "        vertical-align: top;\n",
       "    }\n",
       "\n",
       "    .dataframe thead th {\n",
       "        text-align: right;\n",
       "    }\n",
       "</style>\n",
       "<table border=\"1\" class=\"dataframe\">\n",
       "  <thead>\n",
       "    <tr style=\"text-align: right;\">\n",
       "      <th></th>\n",
       "      <th>ticker</th>\n",
       "      <th>cik</th>\n",
       "      <th>filing_date</th>\n",
       "      <th>id</th>\n",
       "      <th>BUSINESS</th>\n",
       "      <th>RISK FACTORS</th>\n",
       "      <th>SELECTED FINANCIAL DATA</th>\n",
       "      <th>MDA</th>\n",
       "      <th>FSS</th>\n",
       "    </tr>\n",
       "  </thead>\n",
       "  <tbody>\n",
       "    <tr>\n",
       "      <th>0</th>\n",
       "      <td>GD</td>\n",
       "      <td>40533</td>\n",
       "      <td>2/17/2012</td>\n",
       "      <td>0</td>\n",
       "      <td>[\\n\\\\\\n\\\\n3\\n\\\\\\n\\n ,  OVERVIEW  General Dynam...</td>\n",
       "      <td>[\\n\\\\\\n\\\\n14\\n\\\\\\n\\n ,   An investment in our ...</td>\n",
       "      <td>[\\n\\\\\\n\\\\n18\\n\\\\\\n\\n ,   The following table p...</td>\n",
       "      <td>[ is based on our Consolidated Financial State...</td>\n",
       "      <td>[  CONSOLIDATED STATEMENT OF EARNINGS\\n \\\\n\\n\\...</td>\n",
       "    </tr>\n",
       "    <tr>\n",
       "      <th>1</th>\n",
       "      <td>MTB</td>\n",
       "      <td>36270</td>\n",
       "      <td>3/19/1999</td>\n",
       "      <td>1</td>\n",
       "      <td>[.                                            ...</td>\n",
       "      <td>[   58\\n\\n        C.     Risk elements\\n      ...</td>\n",
       "      <td>[.\\n\\n         A.    Selected consolidated yea...</td>\n",
       "      <td>[\". The Company\\'s international activities ar...</td>\n",
       "      <td>[.\"\\n\\n                    Financial statement...</td>\n",
       "    </tr>\n",
       "    <tr>\n",
       "      <th>2</th>\n",
       "      <td>RRC</td>\n",
       "      <td>315852</td>\n",
       "      <td>3/6/2001</td>\n",
       "      <td>2</td>\n",
       "      <td>[\\n, \\nGeneral\\n\\\\\\\\\\\\Range Resources Corporat...</td>\n",
       "      <td>[ovides financing to small oil and gas produce...</td>\n",
       "      <td>[\\n, \\n\\\\\\\\\\\\The following table presents sele...</td>\n",
       "      <td>[ (Capitalized terms herein are defined in the...</td>\n",
       "      <td>[\\n\\\\\\\\\\\\Reference is made to the Index to Fin...</td>\n",
       "    </tr>\n",
       "    <tr>\n",
       "      <th>3</th>\n",
       "      <td>LH</td>\n",
       "      <td>920148</td>\n",
       "      <td>2/26/2009</td>\n",
       "      <td>3</td>\n",
       "      <td>[ \\n\\n4  \\n\\n\\n\\n\\n\\n\\ \\n\\nThe Clinical Labora...</td>\n",
       "      <td>[ \\n\\n22  \\n\\n\\n\\n\\n\\n,  \\n\\\\nRisks Associated...</td>\n",
       "      <td>[ \\n\\n34  \\n\\n\\n\\n\\n\\n,  presented below under...</td>\n",
       "      <td>[,” all included elsewhere herein.\\n\\\\n\\n\\n\\nY...</td>\n",
       "      <td>[  \\n\\n\\\\n\\n\\n\\n\\n\\ \\n\\nReference is made to t...</td>\n",
       "    </tr>\n",
       "    <tr>\n",
       "      <th>4</th>\n",
       "      <td>SYY</td>\n",
       "      <td>96021</td>\n",
       "      <td>9/16/2004</td>\n",
       "      <td>4</td>\n",
       "      <td>[................................................</td>\n",
       "      <td>[1\\nItem 7A.  Quantitative and Qualitative Dis...</td>\n",
       "      <td>[.....................................     10\\...</td>\n",
       "      <td>[mical products distributor\\nReed Distributors...</td>\n",
       "      <td>[\\n\\n                       SYSCO CORPORATION ...</td>\n",
       "    </tr>\n",
       "  </tbody>\n",
       "</table>\n",
       "</div>"
      ],
      "text/plain": [
       "  ticker     cik filing_date  id  \\\n",
       "0     GD   40533   2/17/2012   0   \n",
       "1    MTB   36270   3/19/1999   1   \n",
       "2    RRC  315852    3/6/2001   2   \n",
       "3     LH  920148   2/26/2009   3   \n",
       "4    SYY   96021   9/16/2004   4   \n",
       "\n",
       "                                            BUSINESS  \\\n",
       "0  [\\n\\\\\\n\\\\n3\\n\\\\\\n\\n ,  OVERVIEW  General Dynam...   \n",
       "1  [.                                            ...   \n",
       "2  [\\n, \\nGeneral\\n\\\\\\\\\\\\Range Resources Corporat...   \n",
       "3  [ \\n\\n4  \\n\\n\\n\\n\\n\\n\\ \\n\\nThe Clinical Labora...   \n",
       "4  [................................................   \n",
       "\n",
       "                                        RISK FACTORS  \\\n",
       "0  [\\n\\\\\\n\\\\n14\\n\\\\\\n\\n ,   An investment in our ...   \n",
       "1  [   58\\n\\n        C.     Risk elements\\n      ...   \n",
       "2  [ovides financing to small oil and gas produce...   \n",
       "3  [ \\n\\n22  \\n\\n\\n\\n\\n\\n,  \\n\\\\nRisks Associated...   \n",
       "4  [1\\nItem 7A.  Quantitative and Qualitative Dis...   \n",
       "\n",
       "                             SELECTED FINANCIAL DATA  \\\n",
       "0  [\\n\\\\\\n\\\\n18\\n\\\\\\n\\n ,   The following table p...   \n",
       "1  [.\\n\\n         A.    Selected consolidated yea...   \n",
       "2  [\\n, \\n\\\\\\\\\\\\The following table presents sele...   \n",
       "3  [ \\n\\n34  \\n\\n\\n\\n\\n\\n,  presented below under...   \n",
       "4  [.....................................     10\\...   \n",
       "\n",
       "                                                 MDA  \\\n",
       "0  [ is based on our Consolidated Financial State...   \n",
       "1  [\". The Company\\'s international activities ar...   \n",
       "2  [ (Capitalized terms herein are defined in the...   \n",
       "3  [,” all included elsewhere herein.\\n\\\\n\\n\\n\\nY...   \n",
       "4  [mical products distributor\\nReed Distributors...   \n",
       "\n",
       "                                                 FSS  \n",
       "0  [  CONSOLIDATED STATEMENT OF EARNINGS\\n \\\\n\\n\\...  \n",
       "1  [.\"\\n\\n                    Financial statement...  \n",
       "2  [\\n\\\\\\\\\\\\Reference is made to the Index to Fin...  \n",
       "3  [  \\n\\n\\\\n\\n\\n\\n\\n\\ \\n\\nReference is made to t...  \n",
       "4  [\\n\\n                       SYSCO CORPORATION ...  "
      ]
     },
     "execution_count": 29,
     "metadata": {},
     "output_type": "execute_result"
    }
   ],
   "source": [
    "train_data.head()"
   ]
  },
  {
   "cell_type": "markdown",
   "metadata": {
    "colab_type": "text",
    "id": "J5MpfjNJNvmk"
   },
   "source": [
    "# 6. Feature Creation"
   ]
  },
  {
   "cell_type": "code",
   "execution_count": 30,
   "metadata": {
    "colab": {},
    "colab_type": "code",
    "id": "daZ-ubeONvmm"
   },
   "outputs": [],
   "source": [
    "df = train_data.copy()"
   ]
  },
  {
   "cell_type": "code",
   "execution_count": 31,
   "metadata": {
    "colab": {
     "base_uri": "https://localhost:8080/",
     "height": 187
    },
    "colab_type": "code",
    "executionInfo": {
     "elapsed": 88529,
     "status": "ok",
     "timestamp": 1571030749122,
     "user": {
      "displayName": "Deepak Gupta",
      "photoUrl": "https://lh3.googleusercontent.com/a-/AAuE7mBfdBpsCi4UwiM8oFrxdyG0VHNBjAl3xyuOzWnzVg=s64",
      "userId": "15678042378023801369"
     },
     "user_tz": -330
    },
    "id": "ixuEMCxmNvmn",
    "outputId": "412727ca-af4a-4a4c-eceb-6260bbd4197c"
   },
   "outputs": [
    {
     "data": {
      "text/plain": [
       "ticker                     object\n",
       "cik                         int64\n",
       "filing_date                object\n",
       "id                          int64\n",
       "BUSINESS                   object\n",
       "RISK FACTORS               object\n",
       "SELECTED FINANCIAL DATA    object\n",
       "MDA                        object\n",
       "FSS                        object\n",
       "dtype: object"
      ]
     },
     "execution_count": 31,
     "metadata": {},
     "output_type": "execute_result"
    }
   ],
   "source": [
    "df.dtypes"
   ]
  },
  {
   "cell_type": "code",
   "execution_count": 32,
   "metadata": {
    "colab": {},
    "colab_type": "code",
    "id": "WHtVxDX_Nvmq"
   },
   "outputs": [],
   "source": [
    "cat_col = df.select_dtypes(include=\"object\").columns"
   ]
  },
  {
   "cell_type": "code",
   "execution_count": 33,
   "metadata": {
    "colab": {
     "base_uri": "https://localhost:8080/",
     "height": 34
    },
    "colab_type": "code",
    "executionInfo": {
     "elapsed": 88503,
     "status": "ok",
     "timestamp": 1571030749123,
     "user": {
      "displayName": "Deepak Gupta",
      "photoUrl": "https://lh3.googleusercontent.com/a-/AAuE7mBfdBpsCi4UwiM8oFrxdyG0VHNBjAl3xyuOzWnzVg=s64",
      "userId": "15678042378023801369"
     },
     "user_tz": -330
    },
    "id": "sEYkmPEtNvmr",
    "outputId": "c1d33b89-487e-47b5-e6f8-b23f75e2cca9"
   },
   "outputs": [
    {
     "data": {
      "text/plain": [
       "Index(['BUSINESS', 'RISK FACTORS', 'SELECTED FINANCIAL DATA', 'MDA', 'FSS'], dtype='object')"
      ]
     },
     "execution_count": 33,
     "metadata": {},
     "output_type": "execute_result"
    }
   ],
   "source": [
    "cat_col[2:]"
   ]
  },
  {
   "cell_type": "code",
   "execution_count": 34,
   "metadata": {
    "colab": {
     "base_uri": "https://localhost:8080/",
     "height": 187
    },
    "colab_type": "code",
    "executionInfo": {
     "elapsed": 88491,
     "status": "ok",
     "timestamp": 1571030749124,
     "user": {
      "displayName": "Deepak Gupta",
      "photoUrl": "https://lh3.googleusercontent.com/a-/AAuE7mBfdBpsCi4UwiM8oFrxdyG0VHNBjAl3xyuOzWnzVg=s64",
      "userId": "15678042378023801369"
     },
     "user_tz": -330
    },
    "id": "DDSe-FOnNvms",
    "outputId": "4a11e876-dcd1-4d07-8148-32899246e3e2"
   },
   "outputs": [
    {
     "data": {
      "text/plain": [
       "ticker                     object\n",
       "cik                         int64\n",
       "filing_date                object\n",
       "id                          int64\n",
       "BUSINESS                   object\n",
       "RISK FACTORS               object\n",
       "SELECTED FINANCIAL DATA    object\n",
       "MDA                        object\n",
       "FSS                        object\n",
       "dtype: object"
      ]
     },
     "execution_count": 34,
     "metadata": {},
     "output_type": "execute_result"
    }
   ],
   "source": [
    "df.dtypes"
   ]
  },
  {
   "cell_type": "code",
   "execution_count": 35,
   "metadata": {
    "colab": {},
    "colab_type": "code",
    "id": "YFdSnq1PNvmt"
   },
   "outputs": [],
   "source": [
    "df[cat_col[2:]] = df[cat_col[2:]].astype(str)"
   ]
  },
  {
   "cell_type": "code",
   "execution_count": 36,
   "metadata": {
    "colab": {
     "base_uri": "https://localhost:8080/",
     "height": 119
    },
    "colab_type": "code",
    "executionInfo": {
     "elapsed": 89794,
     "status": "ok",
     "timestamp": 1571030750445,
     "user": {
      "displayName": "Deepak Gupta",
      "photoUrl": "https://lh3.googleusercontent.com/a-/AAuE7mBfdBpsCi4UwiM8oFrxdyG0VHNBjAl3xyuOzWnzVg=s64",
      "userId": "15678042378023801369"
     },
     "user_tz": -330
    },
    "id": "gYMYnuFCNvmv",
    "outputId": "3b0a577d-6950-4534-e75b-1c9d8f858a79"
   },
   "outputs": [
    {
     "name": "stdout",
     "output_type": "stream",
     "text": [
      "[nltk_data] Downloading package stopwords to\n",
      "[nltk_data]     C:\\Users\\deepa\\AppData\\Roaming\\nltk_data...\n",
      "[nltk_data]   Unzipping corpora\\stopwords.zip.\n",
      "[nltk_data] Downloading package punkt to\n",
      "[nltk_data]     C:\\Users\\deepa\\AppData\\Roaming\\nltk_data...\n",
      "[nltk_data]   Package punkt is already up-to-date!\n",
      "[nltk_data] Downloading package wordnet to\n",
      "[nltk_data]     C:\\Users\\deepa\\AppData\\Roaming\\nltk_data...\n",
      "[nltk_data]   Package wordnet is already up-to-date!\n"
     ]
    }
   ],
   "source": [
    "import nltk\n",
    "nltk.download('stopwords')\n",
    "nltk.download('punkt')\n",
    "nltk.download('wordnet')\n",
    "from nltk.tokenize import word_tokenize\n",
    "from nltk.stem import WordNetLemmatizer\n",
    "from nltk.corpus import stopwords\n",
    "lemmatizer = WordNetLemmatizer()\n",
    "from nltk.tokenize import RegexpTokenizer, sent_tokenize\n",
    "stopwords_english = stopwords.words('english')"
   ]
  },
  {
   "cell_type": "code",
   "execution_count": 37,
   "metadata": {
    "colab": {},
    "colab_type": "code",
    "id": "RChN_EEFNvmw"
   },
   "outputs": [],
   "source": [
    "from nltk.corpus import wordnet\n",
    "def get_wordnet_pos(word):\n",
    "    \"\"\"Map POS tag to first character lemmatize() accepts\"\"\"\n",
    "    tag = nltk.pos_tag([word])[0][1][0].upper()\n",
    "    tag_dict = {\"J\": wordnet.ADJ,\n",
    "                \"N\": wordnet.NOUN,\n",
    "                \"V\": wordnet.VERB,\n",
    "                \"R\": wordnet.ADV}\n",
    "\n",
    "    return tag_dict.get(tag, wordnet.NOUN)"
   ]
  },
  {
   "cell_type": "code",
   "execution_count": 43,
   "metadata": {
    "colab": {},
    "colab_type": "code",
    "id": "Jf6l6kimNvmx"
   },
   "outputs": [],
   "source": [
    "'''positiveWordsFile = r'/content/drive/My Drive/PHD/PositiveWords.txt'\n",
    "nagitiveWordsFile = r'/content/drive/My Drive/PHD/NegativeWords.txt'\n",
    "uncertainty_dictionaryFile = r'/content/drive/My Drive/PHD/uncertainty_dictionary.txt'''\n",
    "positiveWordsFile = r'PositiveWords.txt'\n",
    "nagitiveWordsFile = r'NegativeWords.txt'\n",
    "uncertainty_dictionaryFile = r'uncertainty_dictionary.txt'"
   ]
  },
  {
   "cell_type": "code",
   "execution_count": 44,
   "metadata": {
    "colab": {},
    "colab_type": "code",
    "id": "Vho-z1tsNvmz"
   },
   "outputs": [],
   "source": [
    "# Loading positive words\n",
    "with open(positiveWordsFile,'r') as posfile:\n",
    "    positivewords=posfile.read().lower()\n",
    "positiveWordList=positivewords.split('\\n')"
   ]
  },
  {
   "cell_type": "code",
   "execution_count": 45,
   "metadata": {
    "colab": {},
    "colab_type": "code",
    "id": "DwYYw1I3Nvm1"
   },
   "outputs": [],
   "source": [
    "# Loading negative words\n",
    "with open(nagitiveWordsFile ,'r') as negfile:\n",
    "    negativeword=negfile.read().lower()\n",
    "negativeWordList=negativeword.split('\\n')"
   ]
  },
  {
   "cell_type": "code",
   "execution_count": 46,
   "metadata": {
    "colab": {},
    "colab_type": "code",
    "id": "23s1khNsNvm3"
   },
   "outputs": [],
   "source": [
    "# calculating uncertainty_score\n",
    "with open(uncertainty_dictionaryFile ,'r') as uncertain_dict:\n",
    "    uncertainDict=uncertain_dict.read().lower()\n",
    "uncertainDictionary = uncertainDict.split('\\n')"
   ]
  },
  {
   "cell_type": "code",
   "execution_count": 47,
   "metadata": {
    "colab": {},
    "colab_type": "code",
    "id": "6qcJ8tqcNvm7"
   },
   "outputs": [],
   "source": [
    "# Calculating positive score \n",
    "def positive_score(text):\n",
    "    numPosWords = 0\n",
    "    #ss = token_lemt(text)\n",
    "    rawToken = tokenizer(text)\n",
    "    \n",
    "    for word in rawToken:\n",
    "        if word in positiveWordList:\n",
    "            numPosWords  += 1\n",
    "    \n",
    "    sumPos = numPosWords\n",
    "    return sumPos"
   ]
  },
  {
   "cell_type": "code",
   "execution_count": 48,
   "metadata": {
    "colab": {},
    "colab_type": "code",
    "id": "eOnZVcwhNvm8"
   },
   "outputs": [],
   "source": [
    "# Calculating Negative score\n",
    "def negative_word(text):\n",
    "    numNegWords=0\n",
    "    #ss = token_lemt(text)\n",
    "    rawToken = tokenizer(text)\n",
    "    \n",
    "    for word in rawToken:\n",
    "        if word in negativeWordList:\n",
    "            numNegWords -=1\n",
    "    sumNeg = numNegWords \n",
    "    sumNeg = sumNeg * -1\n",
    "    return sumNeg"
   ]
  },
  {
   "cell_type": "code",
   "execution_count": 49,
   "metadata": {
    "colab": {},
    "colab_type": "code",
    "id": "gYu9tTJaNvm8"
   },
   "outputs": [],
   "source": [
    "# Calculating polarity score\n",
    "def polarity_score(positiveScore, negativeScore):\n",
    "    pol_score = (positiveScore - negativeScore) / ((positiveScore + negativeScore) + 0.000001)\n",
    "    return pol_score"
   ]
  },
  {
   "cell_type": "code",
   "execution_count": 50,
   "metadata": {
    "colab": {},
    "colab_type": "code",
    "id": "G0BGiHgBNvm9"
   },
   "outputs": [],
   "source": [
    "def uncertainty_score(text):\n",
    "    uncertainWordnum =0\n",
    "    #ss = token_lemt(text)\n",
    "    rawToken = tokenizer(text)\n",
    "    \n",
    "    for word in rawToken:\n",
    "        if word in uncertainDictionary:\n",
    "            uncertainWordnum +=1\n",
    "    sumUncertainityScore = uncertainWordnum \n",
    "    \n",
    "    return sumUncertainityScore"
   ]
  },
  {
   "cell_type": "code",
   "execution_count": 51,
   "metadata": {
    "colab": {},
    "colab_type": "code",
    "id": "3gN0rYx3Nvm_"
   },
   "outputs": [],
   "source": [
    "# Tokenizer\n",
    "def tokenizer(text):\n",
    "    #text = text.lower()\n",
    "    tokenizer = RegexpTokenizer(r'\\w+')\n",
    "    tokens = tokenizer.tokenize(text)\n",
    "    filtered_words = list(filter(lambda token: token not in stopwords_english, tokens))\n",
    "    return filtered_words"
   ]
  },
  {
   "cell_type": "code",
   "execution_count": 52,
   "metadata": {
    "colab": {},
    "colab_type": "code",
    "id": "7kOxoWFONvnA"
   },
   "outputs": [],
   "source": [
    "def clean_data(bdata):\n",
    "    bdata = str(bdata)\n",
    "    var = re.sub(r\"[&|\\,|\\.|\\?|\\!|\\(|\\)|\\n|\\/]\",\"\",bdata).strip()\n",
    "    var = re.sub(r\"[\\’]\",\"\",var.lower())\n",
    "    var = re.sub(r\"[\\“\\”\\$\\`\\`\\''\\``]\",\"\",var)\n",
    "    var = var.replace(\"''\",\"\")\n",
    "    var = var.replace(\"``\",\"\")\n",
    "    var = re.sub(r\"[\\-]\",\"\",var)\n",
    "    var = re.sub(r\"[\\d+]\",\"\",var)\n",
    "    var = re.sub(r\"[\\*]{,8}\",\"\",var)\n",
    "    var = re.sub(r\"[\\—]\",\"\",var)\n",
    "    var = re.sub(r\"[\\:]\",\"\",var)\n",
    "    var = re.sub(r\"[\\;\\%\\-]\",\"\",var)\n",
    "    var = re.sub(\"[^a-zA-z0-9\\s']\",\" \", var)\n",
    "    var = re.sub(\"[']\",\"\", var)\n",
    "    var = re.sub(\"[\\\\\\\\]\",\"\", var)\n",
    "    var = re.sub(r\"mw\",\"\", var)\n",
    "    var = re.sub(r\"``\",\"\", var)\n",
    "    var = re.sub(r\"\\n\",\"\", var)\n",
    "    var = re.sub(r\"[nn]{2,20}\",\"\",var)\n",
    "    var = re.sub(r\"['–']{,20}\",\"\",var)\n",
    "    var = re.sub(r\"['q']{2,20}\",\"\",var)\n",
    "    var = re.sub(r\"['[[']{1,20}\",\"\",var)\n",
    "    var = re.sub(r\"[\\]\\]]\",\"\",var).strip()\n",
    "    return var"
   ]
  },
  {
   "cell_type": "code",
   "execution_count": 53,
   "metadata": {
    "colab": {},
    "colab_type": "code",
    "id": "q1RsHb0tNvnB"
   },
   "outputs": [],
   "source": [
    "def token_lemt(var):\n",
    "    v = clean_data(var)\n",
    "    words = word_tokenize(v)\n",
    "    words = [word for word in words if word not in stopwords_english]\n",
    "    #lemma_words = [lemmatizer.lemmatize(i, get_wordnet_pos(i)) for i in words]\n",
    "    lemmatizer = WordNetLemmatizer()\n",
    "    lemma_words = [lemmatizer.lemmatize(i) for i in words]\n",
    "    filtered = ' '.join(lemma_words)\n",
    "    return filtered"
   ]
  },
  {
   "cell_type": "code",
   "execution_count": 54,
   "metadata": {
    "colab": {},
    "colab_type": "code",
    "id": "iAcIfTPoNvnD"
   },
   "outputs": [],
   "source": [
    "def token_lemt_token_only(var):\n",
    "    #v = clean_data(var)\n",
    "    words = word_tokenize(var)\n",
    "    #words = [word for word in var if word not in stopwords_english]\n",
    "    #lemma_words = [lemmatizer.lemmatize(i, get_wordnet_pos(i)) for i in words]\n",
    "    lemmatizer = WordNetLemmatizer()\n",
    "    lemma_words = [lemmatizer.lemmatize(i) for i in words]\n",
    "    #filtered = ' '.join(lemma_words)\n",
    "    return lemma_words"
   ]
  },
  {
   "cell_type": "code",
   "execution_count": 55,
   "metadata": {
    "colab": {},
    "colab_type": "code",
    "id": "Dlv2zU2rNvnE"
   },
   "outputs": [],
   "source": [
    "# Calculating Average sentence length \n",
    "# It will calculated using formula --- Average Sentence Length = the number of words / the number of sentences\n",
    "     \n",
    "def average_sentence_length(text):\n",
    "  #ss = token_lemt(text)\n",
    "  sentence_list = sent_tokenize(text)\n",
    "  tokens = tokenizer(text)\n",
    "  totalWordCount = len(tokens)\n",
    "  totalSentences = len(sentence_list)\n",
    "  average_sent = 0\n",
    "  if totalSentences != 0:\n",
    "    average_sent = totalWordCount / totalSentences\n",
    "  \n",
    "  average_sent_length= average_sent\n",
    "  \n",
    "  return round(average_sent_length)"
   ]
  },
  {
   "cell_type": "code",
   "execution_count": 56,
   "metadata": {
    "colab": {},
    "colab_type": "code",
    "id": "lKNosk3CNvnK"
   },
   "outputs": [],
   "source": [
    "#Counting total words\n",
    "\n",
    "def total_word_count(text):\n",
    "    #ss = token_lemt(text)\n",
    "    tokens = tokenizer(text)\n",
    "    return len(tokens)"
   ]
  },
  {
   "cell_type": "code",
   "execution_count": 57,
   "metadata": {
    "colab": {},
    "colab_type": "code",
    "id": "x_LE_tHPNvnL"
   },
   "outputs": [],
   "source": [
    "# Calculating percentage of complex word \n",
    "# It is calculated using Percentage of Complex words = the number of complex words / the number of words \n",
    "\n",
    "def percentage_complex_word(text):\n",
    "    #ss = token_lemt(text)\n",
    "    tokens = tokenizer(text)\n",
    "    complexWord = 0\n",
    "    complex_word_percentage = 0\n",
    "    \n",
    "    for word in tokens:\n",
    "        vowels=0\n",
    "        if word.endswith(('es','ed')):\n",
    "            pass\n",
    "        else:\n",
    "            for w in word:\n",
    "                if(w=='a' or w=='e' or w=='i' or w=='o' or w=='u'):\n",
    "                    vowels += 1\n",
    "            if(vowels > 2):\n",
    "                complexWord += 1\n",
    "    if len(tokens) != 0:\n",
    "        complex_word_percentage = complexWord/len(tokens)\n",
    "    \n",
    "    return complex_word_percentage"
   ]
  },
  {
   "cell_type": "code",
   "execution_count": 58,
   "metadata": {
    "colab": {},
    "colab_type": "code",
    "id": "fW-HO4peNvnM"
   },
   "outputs": [],
   "source": [
    "# Counting complex words\n",
    "def complex_word_count(text):\n",
    "    #ss = token_lemt(text)\n",
    "    tokens = tokenizer(text)\n",
    "    complexWord = 0\n",
    "    \n",
    "    for word in tokens:\n",
    "        vowels=0\n",
    "        if word.endswith(('es','ed')):\n",
    "            pass\n",
    "        else:\n",
    "            for w in word:\n",
    "                if(w=='a' or w=='e' or w=='i' or w=='o' or w=='u'):\n",
    "                    vowels += 1\n",
    "            if(vowels > 2):\n",
    "                complexWord += 1\n",
    "    return complexWord"
   ]
  },
  {
   "cell_type": "code",
   "execution_count": 59,
   "metadata": {
    "colab": {},
    "colab_type": "code",
    "id": "LOf57OdlNvnN"
   },
   "outputs": [],
   "source": [
    "# calculating Fog Index \n",
    "# Fog index is calculated using -- Fog Index = 0.4 * (Average Sentence Length + Percentage of Complex words)\n",
    "\n",
    "def fog_index(averageSentenceLength, percentageComplexWord):\n",
    "    fogIndex = 0.4 * (averageSentenceLength + percentageComplexWord)\n",
    "    return fogIndex"
   ]
  },
  {
   "cell_type": "code",
   "execution_count": null,
   "metadata": {
    "colab": {},
    "colab_type": "code",
    "id": "r2CnEH-AS1aR"
   },
   "outputs": [],
   "source": [
    "#df['A'][0:645] = df['BUSINESS'][:645].swifter.apply(token_lemt)"
   ]
  },
  {
   "cell_type": "code",
   "execution_count": null,
   "metadata": {
    "colab": {},
    "colab_type": "code",
    "id": "50_M67vdW-A7"
   },
   "outputs": [],
   "source": [
    "#df['A'][646:] = df['BUSINESS'][646:].swifter.apply(token_lemt)"
   ]
  },
  {
   "cell_type": "code",
   "execution_count": 60,
   "metadata": {
    "colab": {},
    "colab_type": "code",
    "id": "sGfKfOQlS1h_"
   },
   "outputs": [],
   "source": [
    "df.drop([645],axis=0,inplace = True)"
   ]
  },
  {
   "cell_type": "code",
   "execution_count": null,
   "metadata": {
    "colab": {
     "base_uri": "https://localhost:8080/",
     "height": 34
    },
    "colab_type": "code",
    "executionInfo": {
     "elapsed": 90070,
     "status": "ok",
     "timestamp": 1571030750855,
     "user": {
      "displayName": "Deepak Gupta",
      "photoUrl": "https://lh3.googleusercontent.com/a-/AAuE7mBfdBpsCi4UwiM8oFrxdyG0VHNBjAl3xyuOzWnzVg=s64",
      "userId": "15678042378023801369"
     },
     "user_tz": -330
    },
    "id": "GaKxbZYnS1k4",
    "outputId": "f2070e27-cf48-4fc7-f61b-610f6ad18912"
   },
   "outputs": [],
   "source": [
    "'''%%time\n",
    "df['BUSINESS'] = df['BUSINESS'].swifter.apply(token_lemt)'''"
   ]
  },
  {
   "cell_type": "code",
   "execution_count": 62,
   "metadata": {
    "colab": {
     "base_uri": "https://localhost:8080/",
     "height": 136
    },
    "colab_type": "code",
    "executionInfo": {
     "elapsed": 284444,
     "status": "ok",
     "timestamp": 1571030945237,
     "user": {
      "displayName": "Deepak Gupta",
      "photoUrl": "https://lh3.googleusercontent.com/a-/AAuE7mBfdBpsCi4UwiM8oFrxdyG0VHNBjAl3xyuOzWnzVg=s64",
      "userId": "15678042378023801369"
     },
     "user_tz": -330
    },
    "id": "gg6pWpQ6NvnO",
    "outputId": "5c3421b2-4104-4ce9-ef4c-374a719e79db"
   },
   "outputs": [
    {
     "data": {
      "application/vnd.jupyter.widget-view+json": {
       "model_id": "f6a7384896c8489db0db855f46324956",
       "version_major": 2,
       "version_minor": 0
      },
      "text/plain": [
       "HBox(children=(IntProgress(value=0, description='Pandas Apply', max=839, style=ProgressStyle(description_width…"
      ]
     },
     "metadata": {},
     "output_type": "display_data"
    },
    {
     "name": "stdout",
     "output_type": "stream",
     "text": [
      "\n"
     ]
    },
    {
     "data": {
      "application/vnd.jupyter.widget-view+json": {
       "model_id": "aa2dd90c647d420882f06ae0f19619cf",
       "version_major": 2,
       "version_minor": 0
      },
      "text/plain": [
       "HBox(children=(IntProgress(value=0, description='Pandas Apply', max=839, style=ProgressStyle(description_width…"
      ]
     },
     "metadata": {},
     "output_type": "display_data"
    },
    {
     "name": "stdout",
     "output_type": "stream",
     "text": [
      "\n"
     ]
    },
    {
     "data": {
      "application/vnd.jupyter.widget-view+json": {
       "model_id": "1eacd9ce3ea8483891fb281b55c448ac",
       "version_major": 2,
       "version_minor": 0
      },
      "text/plain": [
       "HBox(children=(IntProgress(value=0, description='Pandas Apply', max=839, style=ProgressStyle(description_width…"
      ]
     },
     "metadata": {},
     "output_type": "display_data"
    },
    {
     "name": "stdout",
     "output_type": "stream",
     "text": [
      "\n"
     ]
    },
    {
     "data": {
      "application/vnd.jupyter.widget-view+json": {
       "model_id": "6c596bd607b746bcb6a70a40ab28a78c",
       "version_major": 2,
       "version_minor": 0
      },
      "text/plain": [
       "HBox(children=(IntProgress(value=0, description='Pandas Apply', max=839, style=ProgressStyle(description_width…"
      ]
     },
     "metadata": {},
     "output_type": "display_data"
    },
    {
     "name": "stdout",
     "output_type": "stream",
     "text": [
      "\n"
     ]
    },
    {
     "data": {
      "application/vnd.jupyter.widget-view+json": {
       "model_id": "426030a9e80d42f0be891c5f18569262",
       "version_major": 2,
       "version_minor": 0
      },
      "text/plain": [
       "HBox(children=(IntProgress(value=0, description='Pandas Apply', max=839, style=ProgressStyle(description_width…"
      ]
     },
     "metadata": {},
     "output_type": "display_data"
    },
    {
     "name": "stdout",
     "output_type": "stream",
     "text": [
      "\n",
      "Wall time: 2min 44s\n"
     ]
    }
   ],
   "source": [
    "%%time\n",
    "#df['BUSINESS'] = df['BUSINESS'].swifter.apply(token_lemt)\n",
    "df['BUSINESS'] = df['BUSINESS'].swifter.apply(token_lemt)\n",
    "df['RISK FACTORS'] = df['RISK FACTORS'].swifter.apply(token_lemt)\n",
    "df['SELECTED FINANCIAL DATA'] = df['SELECTED FINANCIAL DATA'].swifter.apply(token_lemt)\n",
    "df['MDA'] = df['MDA'].swifter.apply(token_lemt)\n",
    "df['FSS'] = df['FSS'].swifter.apply(token_lemt)"
   ]
  },
  {
   "cell_type": "code",
   "execution_count": 63,
   "metadata": {
    "colab": {
     "base_uri": "https://localhost:8080/",
     "height": 136
    },
    "colab_type": "code",
    "executionInfo": {
     "elapsed": 374669,
     "status": "ok",
     "timestamp": 1571031035470,
     "user": {
      "displayName": "Deepak Gupta",
      "photoUrl": "https://lh3.googleusercontent.com/a-/AAuE7mBfdBpsCi4UwiM8oFrxdyG0VHNBjAl3xyuOzWnzVg=s64",
      "userId": "15678042378023801369"
     },
     "user_tz": -330
    },
    "id": "4Yt4AbgQNvnP",
    "outputId": "a4de1444-88b4-4042-a827-819b91d73631"
   },
   "outputs": [
    {
     "data": {
      "application/vnd.jupyter.widget-view+json": {
       "model_id": "4c7c23acc92e4ff0b5f33bee4139e55d",
       "version_major": 2,
       "version_minor": 0
      },
      "text/plain": [
       "HBox(children=(IntProgress(value=0, description='Pandas Apply', max=839, style=ProgressStyle(description_width…"
      ]
     },
     "metadata": {},
     "output_type": "display_data"
    },
    {
     "name": "stdout",
     "output_type": "stream",
     "text": [
      "\n"
     ]
    },
    {
     "data": {
      "application/vnd.jupyter.widget-view+json": {
       "model_id": "e358b69695c045518f2f50331e2fab46",
       "version_major": 2,
       "version_minor": 0
      },
      "text/plain": [
       "HBox(children=(IntProgress(value=0, description='Pandas Apply', max=839, style=ProgressStyle(description_width…"
      ]
     },
     "metadata": {},
     "output_type": "display_data"
    },
    {
     "name": "stdout",
     "output_type": "stream",
     "text": [
      "\n"
     ]
    },
    {
     "data": {
      "application/vnd.jupyter.widget-view+json": {
       "model_id": "0ef7d9b6f8184a90bad8774530f7af39",
       "version_major": 2,
       "version_minor": 0
      },
      "text/plain": [
       "HBox(children=(IntProgress(value=0, description='Pandas Apply', max=839, style=ProgressStyle(description_width…"
      ]
     },
     "metadata": {},
     "output_type": "display_data"
    },
    {
     "name": "stdout",
     "output_type": "stream",
     "text": [
      "\n"
     ]
    },
    {
     "data": {
      "application/vnd.jupyter.widget-view+json": {
       "model_id": "c9d9a2ba818048f08379421f190f87fa",
       "version_major": 2,
       "version_minor": 0
      },
      "text/plain": [
       "HBox(children=(IntProgress(value=0, description='Pandas Apply', max=839, style=ProgressStyle(description_width…"
      ]
     },
     "metadata": {},
     "output_type": "display_data"
    },
    {
     "name": "stdout",
     "output_type": "stream",
     "text": [
      "\n"
     ]
    },
    {
     "data": {
      "application/vnd.jupyter.widget-view+json": {
       "model_id": "c8eb13beae75459791b41b3a406182d7",
       "version_major": 2,
       "version_minor": 0
      },
      "text/plain": [
       "HBox(children=(IntProgress(value=0, description='Pandas Apply', max=839, style=ProgressStyle(description_width…"
      ]
     },
     "metadata": {},
     "output_type": "display_data"
    },
    {
     "name": "stdout",
     "output_type": "stream",
     "text": [
      "\n",
      "Wall time: 1min 8s\n"
     ]
    }
   ],
   "source": [
    "%%time\n",
    "df['BUSINESS_Tokens'] = df['BUSINESS'].swifter.apply(token_lemt_token_only)\n",
    "df['RISK_Tokens'] = df['RISK FACTORS'].swifter.apply(token_lemt_token_only)\n",
    "df['SELECTED_Tokens'] = df['SELECTED FINANCIAL DATA'].swifter.apply(token_lemt_token_only)\n",
    "df['MDA_Tokens'] = df['MDA'].swifter.apply(token_lemt_token_only)\n",
    "df['FSS_Tokens'] = df['FSS'].swifter.apply(token_lemt_token_only)"
   ]
  },
  {
   "cell_type": "code",
   "execution_count": 64,
   "metadata": {
    "colab": {
     "base_uri": "https://localhost:8080/",
     "height": 136
    },
    "colab_type": "code",
    "executionInfo": {
     "elapsed": 439792,
     "status": "ok",
     "timestamp": 1571031100600,
     "user": {
      "displayName": "Deepak Gupta",
      "photoUrl": "https://lh3.googleusercontent.com/a-/AAuE7mBfdBpsCi4UwiM8oFrxdyG0VHNBjAl3xyuOzWnzVg=s64",
      "userId": "15678042378023801369"
     },
     "user_tz": -330
    },
    "id": "aSuQxLALNvnR",
    "outputId": "a6206129-7bc6-4bda-8c89-bc8205d5fb5a"
   },
   "outputs": [
    {
     "data": {
      "application/vnd.jupyter.widget-view+json": {
       "model_id": "2714bc66f09f41b9810d06e89cb36f71",
       "version_major": 2,
       "version_minor": 0
      },
      "text/plain": [
       "HBox(children=(IntProgress(value=0, description='Pandas Apply', max=839, style=ProgressStyle(description_width…"
      ]
     },
     "metadata": {},
     "output_type": "display_data"
    },
    {
     "name": "stdout",
     "output_type": "stream",
     "text": [
      "\n"
     ]
    },
    {
     "data": {
      "application/vnd.jupyter.widget-view+json": {
       "model_id": "6b9d3182203143e480f2857be368e4aa",
       "version_major": 2,
       "version_minor": 0
      },
      "text/plain": [
       "HBox(children=(IntProgress(value=0, description='Pandas Apply', max=839, style=ProgressStyle(description_width…"
      ]
     },
     "metadata": {},
     "output_type": "display_data"
    },
    {
     "name": "stdout",
     "output_type": "stream",
     "text": [
      "\n"
     ]
    },
    {
     "data": {
      "application/vnd.jupyter.widget-view+json": {
       "model_id": "a4daae6407aa41878c665196f2595fff",
       "version_major": 2,
       "version_minor": 0
      },
      "text/plain": [
       "HBox(children=(IntProgress(value=0, description='Pandas Apply', max=839, style=ProgressStyle(description_width…"
      ]
     },
     "metadata": {},
     "output_type": "display_data"
    },
    {
     "name": "stdout",
     "output_type": "stream",
     "text": [
      "\n"
     ]
    },
    {
     "data": {
      "application/vnd.jupyter.widget-view+json": {
       "model_id": "422594d3e9b94d9f9b2ccb33557fa35f",
       "version_major": 2,
       "version_minor": 0
      },
      "text/plain": [
       "HBox(children=(IntProgress(value=0, description='Pandas Apply', max=839, style=ProgressStyle(description_width…"
      ]
     },
     "metadata": {},
     "output_type": "display_data"
    },
    {
     "name": "stdout",
     "output_type": "stream",
     "text": [
      "\n"
     ]
    },
    {
     "data": {
      "application/vnd.jupyter.widget-view+json": {
       "model_id": "1f3fa171c0a94db696896ef74db2886b",
       "version_major": 2,
       "version_minor": 0
      },
      "text/plain": [
       "HBox(children=(IntProgress(value=0, description='Pandas Apply', max=839, style=ProgressStyle(description_width…"
      ]
     },
     "metadata": {},
     "output_type": "display_data"
    },
    {
     "name": "stdout",
     "output_type": "stream",
     "text": [
      "\n",
      "Wall time: 48.6 s\n"
     ]
    }
   ],
   "source": [
    "%%time\n",
    "df['BUSINESS_POSITIVE'] = df['BUSINESS'].swifter.apply(positive_score)\n",
    "df['RISK FACTORS_POSITIVE'] = df['RISK FACTORS'].swifter.apply(positive_score)\n",
    "df['SELECTED FINANCIAL DATA_POSITIVE'] = df['SELECTED FINANCIAL DATA'].swifter.apply(positive_score)\n",
    "df['MDA_POSITIVE'] = df['MDA'].swifter.apply(positive_score)\n",
    "df['FSS_POSITIVE'] = df['FSS'].swifter.apply(positive_score)"
   ]
  },
  {
   "cell_type": "code",
   "execution_count": 65,
   "metadata": {
    "colab": {
     "base_uri": "https://localhost:8080/",
     "height": 136
    },
    "colab_type": "code",
    "executionInfo": {
     "elapsed": 732733,
     "status": "ok",
     "timestamp": 1571031393548,
     "user": {
      "displayName": "Deepak Gupta",
      "photoUrl": "https://lh3.googleusercontent.com/a-/AAuE7mBfdBpsCi4UwiM8oFrxdyG0VHNBjAl3xyuOzWnzVg=s64",
      "userId": "15678042378023801369"
     },
     "user_tz": -330
    },
    "id": "4Gao4tyCNvnS",
    "outputId": "8b280ef3-064b-4ac4-92a6-9bee2a2f93f7"
   },
   "outputs": [
    {
     "data": {
      "application/vnd.jupyter.widget-view+json": {
       "model_id": "5b98cf702f2b4597baa037969bf43216",
       "version_major": 2,
       "version_minor": 0
      },
      "text/plain": [
       "HBox(children=(IntProgress(value=0, description='Pandas Apply', max=839, style=ProgressStyle(description_width…"
      ]
     },
     "metadata": {},
     "output_type": "display_data"
    },
    {
     "name": "stdout",
     "output_type": "stream",
     "text": [
      "\n"
     ]
    },
    {
     "data": {
      "application/vnd.jupyter.widget-view+json": {
       "model_id": "e23b9ac6c7e249c9b45f55155a756401",
       "version_major": 2,
       "version_minor": 0
      },
      "text/plain": [
       "HBox(children=(IntProgress(value=0, description='Pandas Apply', max=839, style=ProgressStyle(description_width…"
      ]
     },
     "metadata": {},
     "output_type": "display_data"
    },
    {
     "name": "stdout",
     "output_type": "stream",
     "text": [
      "\n"
     ]
    },
    {
     "data": {
      "application/vnd.jupyter.widget-view+json": {
       "model_id": "938965a63bc74063be683e4a3a8da89a",
       "version_major": 2,
       "version_minor": 0
      },
      "text/plain": [
       "HBox(children=(IntProgress(value=0, description='Pandas Apply', max=839, style=ProgressStyle(description_width…"
      ]
     },
     "metadata": {},
     "output_type": "display_data"
    },
    {
     "name": "stdout",
     "output_type": "stream",
     "text": [
      "\n"
     ]
    },
    {
     "data": {
      "application/vnd.jupyter.widget-view+json": {
       "model_id": "3f432c9f15c64e6da6b8455e709edc58",
       "version_major": 2,
       "version_minor": 0
      },
      "text/plain": [
       "HBox(children=(IntProgress(value=0, description='Pandas Apply', max=839, style=ProgressStyle(description_width…"
      ]
     },
     "metadata": {},
     "output_type": "display_data"
    },
    {
     "name": "stdout",
     "output_type": "stream",
     "text": [
      "\n"
     ]
    },
    {
     "data": {
      "application/vnd.jupyter.widget-view+json": {
       "model_id": "601ea637a60d4fceb2a24d85c7fdc22b",
       "version_major": 2,
       "version_minor": 0
      },
      "text/plain": [
       "HBox(children=(IntProgress(value=0, description='Pandas Apply', max=839, style=ProgressStyle(description_width…"
      ]
     },
     "metadata": {},
     "output_type": "display_data"
    },
    {
     "name": "stdout",
     "output_type": "stream",
     "text": [
      "\n",
      "Wall time: 3min 36s\n"
     ]
    }
   ],
   "source": [
    "%%time\n",
    "df['BUSINESS_NEGATIVE'] = df['BUSINESS'].swifter.apply(negative_word)\n",
    "df['RISK FACTORS_NEGATIVE'] = df['RISK FACTORS'].swifter.apply(negative_word)\n",
    "df['SELECTED FINANCIAL DATA_NEGATIVE'] = df['SELECTED FINANCIAL DATA'].swifter.apply(negative_word)\n",
    "df['MDA_NEGATIVE'] = df['MDA'].swifter.apply(negative_word)\n",
    "df['FSS_NEGATIVE'] = df['FSS'].swifter.apply(negative_word)"
   ]
  },
  {
   "cell_type": "code",
   "execution_count": 66,
   "metadata": {
    "colab": {
     "base_uri": "https://localhost:8080/",
     "height": 136
    },
    "colab_type": "code",
    "executionInfo": {
     "elapsed": 791248,
     "status": "ok",
     "timestamp": 1571031452070,
     "user": {
      "displayName": "Deepak Gupta",
      "photoUrl": "https://lh3.googleusercontent.com/a-/AAuE7mBfdBpsCi4UwiM8oFrxdyG0VHNBjAl3xyuOzWnzVg=s64",
      "userId": "15678042378023801369"
     },
     "user_tz": -330
    },
    "id": "VxgAhj8zNvnT",
    "outputId": "e3329d21-ce51-4d47-bec7-c4dca30f6342"
   },
   "outputs": [
    {
     "data": {
      "application/vnd.jupyter.widget-view+json": {
       "model_id": "b43943584fb940f6a7af35c0dac137f3",
       "version_major": 2,
       "version_minor": 0
      },
      "text/plain": [
       "HBox(children=(IntProgress(value=0, description='Pandas Apply', max=839, style=ProgressStyle(description_width…"
      ]
     },
     "metadata": {},
     "output_type": "display_data"
    },
    {
     "name": "stdout",
     "output_type": "stream",
     "text": [
      "\n"
     ]
    },
    {
     "data": {
      "application/vnd.jupyter.widget-view+json": {
       "model_id": "9010d04ed627475ca2071cd95d49507e",
       "version_major": 2,
       "version_minor": 0
      },
      "text/plain": [
       "HBox(children=(IntProgress(value=0, description='Pandas Apply', max=839, style=ProgressStyle(description_width…"
      ]
     },
     "metadata": {},
     "output_type": "display_data"
    },
    {
     "name": "stdout",
     "output_type": "stream",
     "text": [
      "\n"
     ]
    },
    {
     "data": {
      "application/vnd.jupyter.widget-view+json": {
       "model_id": "8a25fc78f4e048d0bf28d57ecdca61de",
       "version_major": 2,
       "version_minor": 0
      },
      "text/plain": [
       "HBox(children=(IntProgress(value=0, description='Pandas Apply', max=839, style=ProgressStyle(description_width…"
      ]
     },
     "metadata": {},
     "output_type": "display_data"
    },
    {
     "name": "stdout",
     "output_type": "stream",
     "text": [
      "\n"
     ]
    },
    {
     "data": {
      "application/vnd.jupyter.widget-view+json": {
       "model_id": "7beab9644ddc46a188f39057ea543371",
       "version_major": 2,
       "version_minor": 0
      },
      "text/plain": [
       "HBox(children=(IntProgress(value=0, description='Pandas Apply', max=839, style=ProgressStyle(description_width…"
      ]
     },
     "metadata": {},
     "output_type": "display_data"
    },
    {
     "name": "stdout",
     "output_type": "stream",
     "text": [
      "\n"
     ]
    },
    {
     "data": {
      "application/vnd.jupyter.widget-view+json": {
       "model_id": "10b42350a6c247b6ab47ddbb20b93f6c",
       "version_major": 2,
       "version_minor": 0
      },
      "text/plain": [
       "HBox(children=(IntProgress(value=0, description='Pandas Apply', max=839, style=ProgressStyle(description_width…"
      ]
     },
     "metadata": {},
     "output_type": "display_data"
    },
    {
     "name": "stdout",
     "output_type": "stream",
     "text": [
      "\n",
      "Wall time: 45.6 s\n"
     ]
    }
   ],
   "source": [
    "%%time\n",
    "df['BUSINESS_UNCERTAINTY'] = df['BUSINESS'].swifter.apply(uncertainty_score)\n",
    "df['RISK FACTORS_UNCERTAINTY'] = df['RISK FACTORS'].swifter.apply(uncertainty_score)\n",
    "df['SELECTED FINANCIAL DATA_UNCERTAINTY'] = df['SELECTED FINANCIAL DATA'].swifter.apply(uncertainty_score)\n",
    "df['MDA_UNCERTAINTY'] = df['MDA'].swifter.apply(uncertainty_score)\n",
    "df['FSS_UNCERTAINTY'] = df['FSS'].swifter.apply(uncertainty_score)"
   ]
  },
  {
   "cell_type": "code",
   "execution_count": 67,
   "metadata": {
    "colab": {
     "base_uri": "https://localhost:8080/",
     "height": 136
    },
    "colab_type": "code",
    "executionInfo": {
     "elapsed": 825102,
     "status": "ok",
     "timestamp": 1571031485931,
     "user": {
      "displayName": "Deepak Gupta",
      "photoUrl": "https://lh3.googleusercontent.com/a-/AAuE7mBfdBpsCi4UwiM8oFrxdyG0VHNBjAl3xyuOzWnzVg=s64",
      "userId": "15678042378023801369"
     },
     "user_tz": -330
    },
    "id": "_TKtmCLCNvnY",
    "outputId": "887a0f99-a783-4e01-e3be-e0145fc7d46b"
   },
   "outputs": [
    {
     "data": {
      "application/vnd.jupyter.widget-view+json": {
       "model_id": "08ee965f63074fdc84b5b545f77fdc3b",
       "version_major": 2,
       "version_minor": 0
      },
      "text/plain": [
       "HBox(children=(IntProgress(value=0, description='Pandas Apply', max=839, style=ProgressStyle(description_width…"
      ]
     },
     "metadata": {},
     "output_type": "display_data"
    },
    {
     "name": "stdout",
     "output_type": "stream",
     "text": [
      "\n"
     ]
    },
    {
     "data": {
      "application/vnd.jupyter.widget-view+json": {
       "model_id": "7e4c0ecfdae6477fb9e146df38617641",
       "version_major": 2,
       "version_minor": 0
      },
      "text/plain": [
       "HBox(children=(IntProgress(value=0, description='Pandas Apply', max=839, style=ProgressStyle(description_width…"
      ]
     },
     "metadata": {},
     "output_type": "display_data"
    },
    {
     "name": "stdout",
     "output_type": "stream",
     "text": [
      "\n"
     ]
    },
    {
     "data": {
      "application/vnd.jupyter.widget-view+json": {
       "model_id": "ddeb8bac25f040489d1e2209dcf28085",
       "version_major": 2,
       "version_minor": 0
      },
      "text/plain": [
       "HBox(children=(IntProgress(value=0, description='Pandas Apply', max=839, style=ProgressStyle(description_width…"
      ]
     },
     "metadata": {},
     "output_type": "display_data"
    },
    {
     "name": "stdout",
     "output_type": "stream",
     "text": [
      "\n"
     ]
    },
    {
     "data": {
      "application/vnd.jupyter.widget-view+json": {
       "model_id": "0770e4b3cc9a42298d79aeaca4b2b193",
       "version_major": 2,
       "version_minor": 0
      },
      "text/plain": [
       "HBox(children=(IntProgress(value=0, description='Pandas Apply', max=839, style=ProgressStyle(description_width…"
      ]
     },
     "metadata": {},
     "output_type": "display_data"
    },
    {
     "name": "stdout",
     "output_type": "stream",
     "text": [
      "\n"
     ]
    },
    {
     "data": {
      "application/vnd.jupyter.widget-view+json": {
       "model_id": "d31bd73ef0ed4f25a20bcd1049f9088b",
       "version_major": 2,
       "version_minor": 0
      },
      "text/plain": [
       "HBox(children=(IntProgress(value=0, description='Pandas Apply', max=839, style=ProgressStyle(description_width…"
      ]
     },
     "metadata": {},
     "output_type": "display_data"
    },
    {
     "name": "stdout",
     "output_type": "stream",
     "text": [
      "\n",
      "Wall time: 27.3 s\n"
     ]
    }
   ],
   "source": [
    "%%time\n",
    "df['BUSINESS_average_sentence_length'] = df['BUSINESS'].swifter.apply(average_sentence_length)\n",
    "df['RISK_average_sentence_length'] = df['RISK FACTORS'].swifter.apply(average_sentence_length)\n",
    "df['SELECTED_average_sentence_length'] = df['SELECTED FINANCIAL DATA'].swifter.apply(average_sentence_length)\n",
    "df['MDA_average_sentence_length'] = df['MDA'].swifter.apply(average_sentence_length)\n",
    "df['FSS_average_sentence_length'] = df['FSS'].swifter.apply(average_sentence_length)"
   ]
  },
  {
   "cell_type": "code",
   "execution_count": 68,
   "metadata": {
    "colab": {
     "base_uri": "https://localhost:8080/",
     "height": 136
    },
    "colab_type": "code",
    "executionInfo": {
     "elapsed": 849727,
     "status": "ok",
     "timestamp": 1571031510563,
     "user": {
      "displayName": "Deepak Gupta",
      "photoUrl": "https://lh3.googleusercontent.com/a-/AAuE7mBfdBpsCi4UwiM8oFrxdyG0VHNBjAl3xyuOzWnzVg=s64",
      "userId": "15678042378023801369"
     },
     "user_tz": -330
    },
    "id": "3-TRdEbuNvnZ",
    "outputId": "18dd347d-75b3-4976-901b-128887220e04"
   },
   "outputs": [
    {
     "data": {
      "application/vnd.jupyter.widget-view+json": {
       "model_id": "53997908dba8429b84d952bd0a699a18",
       "version_major": 2,
       "version_minor": 0
      },
      "text/plain": [
       "HBox(children=(IntProgress(value=0, description='Pandas Apply', max=839, style=ProgressStyle(description_width…"
      ]
     },
     "metadata": {},
     "output_type": "display_data"
    },
    {
     "name": "stdout",
     "output_type": "stream",
     "text": [
      "\n"
     ]
    },
    {
     "data": {
      "application/vnd.jupyter.widget-view+json": {
       "model_id": "11bf642d745f459da42f89f72fd3d1e4",
       "version_major": 2,
       "version_minor": 0
      },
      "text/plain": [
       "HBox(children=(IntProgress(value=0, description='Pandas Apply', max=839, style=ProgressStyle(description_width…"
      ]
     },
     "metadata": {},
     "output_type": "display_data"
    },
    {
     "name": "stdout",
     "output_type": "stream",
     "text": [
      "\n"
     ]
    },
    {
     "data": {
      "application/vnd.jupyter.widget-view+json": {
       "model_id": "897a0ae59011446591f351c44c6c2343",
       "version_major": 2,
       "version_minor": 0
      },
      "text/plain": [
       "HBox(children=(IntProgress(value=0, description='Pandas Apply', max=839, style=ProgressStyle(description_width…"
      ]
     },
     "metadata": {},
     "output_type": "display_data"
    },
    {
     "name": "stdout",
     "output_type": "stream",
     "text": [
      "\n"
     ]
    },
    {
     "data": {
      "application/vnd.jupyter.widget-view+json": {
       "model_id": "2807e7152182479fa58b5eb1b3710284",
       "version_major": 2,
       "version_minor": 0
      },
      "text/plain": [
       "HBox(children=(IntProgress(value=0, description='Pandas Apply', max=839, style=ProgressStyle(description_width…"
      ]
     },
     "metadata": {},
     "output_type": "display_data"
    },
    {
     "name": "stdout",
     "output_type": "stream",
     "text": [
      "\n"
     ]
    },
    {
     "data": {
      "application/vnd.jupyter.widget-view+json": {
       "model_id": "8a7bb935919f4f63a16523f2025661bf",
       "version_major": 2,
       "version_minor": 0
      },
      "text/plain": [
       "HBox(children=(IntProgress(value=0, description='Pandas Apply', max=839, style=ProgressStyle(description_width…"
      ]
     },
     "metadata": {},
     "output_type": "display_data"
    },
    {
     "name": "stdout",
     "output_type": "stream",
     "text": [
      "\n",
      "Wall time: 17.3 s\n"
     ]
    }
   ],
   "source": [
    "%%time\n",
    "df['BUSINESS_word_count'] = df['BUSINESS'].swifter.apply(total_word_count)\n",
    "df['RISK_word_count'] = df['RISK FACTORS'].swifter.apply(total_word_count)\n",
    "df['SELECTED_word_count'] = df['SELECTED FINANCIAL DATA'].swifter.apply(total_word_count)\n",
    "df['MDA_word_count'] = df['MDA'].swifter.apply(total_word_count)\n",
    "df['FSS_word_count'] = df['FSS'].swifter.apply(total_word_count)"
   ]
  },
  {
   "cell_type": "code",
   "execution_count": 69,
   "metadata": {
    "colab": {
     "base_uri": "https://localhost:8080/",
     "height": 51
    },
    "colab_type": "code",
    "executionInfo": {
     "elapsed": 849720,
     "status": "ok",
     "timestamp": 1571031510564,
     "user": {
      "displayName": "Deepak Gupta",
      "photoUrl": "https://lh3.googleusercontent.com/a-/AAuE7mBfdBpsCi4UwiM8oFrxdyG0VHNBjAl3xyuOzWnzVg=s64",
      "userId": "15678042378023801369"
     },
     "user_tz": -330
    },
    "id": "hJJTQTsHNvnb",
    "outputId": "3faa06bd-0faf-4f3d-f424-cd6c5c9f6e0d"
   },
   "outputs": [
    {
     "name": "stdout",
     "output_type": "stream",
     "text": [
      "Wall time: 6.01 ms\n"
     ]
    }
   ],
   "source": [
    "%%time\n",
    "df['BUSINESS_polarity_score'] = np.vectorize(polarity_score)(df['BUSINESS_POSITIVE'],df['BUSINESS_NEGATIVE'])\n",
    "df['RISK_polarity_score'] = np.vectorize(polarity_score)(df['RISK FACTORS_POSITIVE'],df['RISK FACTORS_NEGATIVE'])\n",
    "df['SELECTED_polarity_score'] = np.vectorize(polarity_score)(df['SELECTED FINANCIAL DATA_POSITIVE'],df['SELECTED FINANCIAL DATA_NEGATIVE'])\n",
    "df['MDA_polarity_score'] = np.vectorize(polarity_score)(df['MDA_POSITIVE'],df['MDA_NEGATIVE'])\n",
    "df['FSS_polarity_score'] = np.vectorize(polarity_score)(df['FSS_POSITIVE'],df['FSS_NEGATIVE'])"
   ]
  },
  {
   "cell_type": "code",
   "execution_count": 70,
   "metadata": {
    "colab": {
     "base_uri": "https://localhost:8080/",
     "height": 136
    },
    "colab_type": "code",
    "executionInfo": {
     "elapsed": 884950,
     "status": "ok",
     "timestamp": 1571031545800,
     "user": {
      "displayName": "Deepak Gupta",
      "photoUrl": "https://lh3.googleusercontent.com/a-/AAuE7mBfdBpsCi4UwiM8oFrxdyG0VHNBjAl3xyuOzWnzVg=s64",
      "userId": "15678042378023801369"
     },
     "user_tz": -330
    },
    "id": "Fxc74X5pNvnb",
    "outputId": "6113986e-a934-425e-a0be-ada16892c62e"
   },
   "outputs": [
    {
     "data": {
      "application/vnd.jupyter.widget-view+json": {
       "model_id": "c2340812254f4dedaf1980a3752200fc",
       "version_major": 2,
       "version_minor": 0
      },
      "text/plain": [
       "HBox(children=(IntProgress(value=0, description='Pandas Apply', max=839, style=ProgressStyle(description_width…"
      ]
     },
     "metadata": {},
     "output_type": "display_data"
    },
    {
     "name": "stdout",
     "output_type": "stream",
     "text": [
      "\n"
     ]
    },
    {
     "data": {
      "application/vnd.jupyter.widget-view+json": {
       "model_id": "9107d98f5a9742298348514c07172a51",
       "version_major": 2,
       "version_minor": 0
      },
      "text/plain": [
       "HBox(children=(IntProgress(value=0, description='Pandas Apply', max=839, style=ProgressStyle(description_width…"
      ]
     },
     "metadata": {},
     "output_type": "display_data"
    },
    {
     "name": "stdout",
     "output_type": "stream",
     "text": [
      "\n"
     ]
    },
    {
     "data": {
      "application/vnd.jupyter.widget-view+json": {
       "model_id": "8b9cfa61b2654b5284d58bec092a4c1e",
       "version_major": 2,
       "version_minor": 0
      },
      "text/plain": [
       "HBox(children=(IntProgress(value=0, description='Pandas Apply', max=839, style=ProgressStyle(description_width…"
      ]
     },
     "metadata": {},
     "output_type": "display_data"
    },
    {
     "name": "stdout",
     "output_type": "stream",
     "text": [
      "\n"
     ]
    },
    {
     "data": {
      "application/vnd.jupyter.widget-view+json": {
       "model_id": "4525e0f3d63c49fda2a6f9080fd9fc33",
       "version_major": 2,
       "version_minor": 0
      },
      "text/plain": [
       "HBox(children=(IntProgress(value=0, description='Pandas Apply', max=839, style=ProgressStyle(description_width…"
      ]
     },
     "metadata": {},
     "output_type": "display_data"
    },
    {
     "name": "stdout",
     "output_type": "stream",
     "text": [
      "\n"
     ]
    },
    {
     "data": {
      "application/vnd.jupyter.widget-view+json": {
       "model_id": "3d76df5c764e4e8290b962f658fc8230",
       "version_major": 2,
       "version_minor": 0
      },
      "text/plain": [
       "HBox(children=(IntProgress(value=0, description='Pandas Apply', max=839, style=ProgressStyle(description_width…"
      ]
     },
     "metadata": {},
     "output_type": "display_data"
    },
    {
     "name": "stdout",
     "output_type": "stream",
     "text": [
      "\n",
      "Wall time: 25.1 s\n"
     ]
    }
   ],
   "source": [
    "%%time\n",
    "df['BUSINESS_percentage_of_complex_words'] = df['BUSINESS'].swifter.apply(percentage_complex_word)\n",
    "df['RISK_percentage_of_complex_words'] =   df['RISK FACTORS'].swifter.apply(percentage_complex_word)\n",
    "df['SELECTED_percentage_of_complex_words'] = df['SELECTED FINANCIAL DATA'].swifter.apply(percentage_complex_word)\n",
    "df['MDA_percentage_of_complex_words'] = df['MDA'].swifter.apply(percentage_complex_word)\n",
    "df['FSS_percentage_of_complex_words'] = df['FSS'].swifter.apply(percentage_complex_word)"
   ]
  },
  {
   "cell_type": "code",
   "execution_count": 71,
   "metadata": {
    "colab": {
     "base_uri": "https://localhost:8080/",
     "height": 136
    },
    "colab_type": "code",
    "executionInfo": {
     "elapsed": 920026,
     "status": "ok",
     "timestamp": 1571031580884,
     "user": {
      "displayName": "Deepak Gupta",
      "photoUrl": "https://lh3.googleusercontent.com/a-/AAuE7mBfdBpsCi4UwiM8oFrxdyG0VHNBjAl3xyuOzWnzVg=s64",
      "userId": "15678042378023801369"
     },
     "user_tz": -330
    },
    "id": "3LrjzqfoNvnd",
    "outputId": "a6a6b755-0433-4b21-d68b-a74426164c9a"
   },
   "outputs": [
    {
     "data": {
      "application/vnd.jupyter.widget-view+json": {
       "model_id": "4a9f3e29ceec41e4a18cb7f1a7619c0d",
       "version_major": 2,
       "version_minor": 0
      },
      "text/plain": [
       "HBox(children=(IntProgress(value=0, description='Pandas Apply', max=839, style=ProgressStyle(description_width…"
      ]
     },
     "metadata": {},
     "output_type": "display_data"
    },
    {
     "name": "stdout",
     "output_type": "stream",
     "text": [
      "\n"
     ]
    },
    {
     "data": {
      "application/vnd.jupyter.widget-view+json": {
       "model_id": "bb56a86f439646abbaebc1cb417d5382",
       "version_major": 2,
       "version_minor": 0
      },
      "text/plain": [
       "HBox(children=(IntProgress(value=0, description='Pandas Apply', max=839, style=ProgressStyle(description_width…"
      ]
     },
     "metadata": {},
     "output_type": "display_data"
    },
    {
     "name": "stdout",
     "output_type": "stream",
     "text": [
      "\n"
     ]
    },
    {
     "data": {
      "application/vnd.jupyter.widget-view+json": {
       "model_id": "bf22391c540145a78928ba4df1f6d0ca",
       "version_major": 2,
       "version_minor": 0
      },
      "text/plain": [
       "HBox(children=(IntProgress(value=0, description='Pandas Apply', max=839, style=ProgressStyle(description_width…"
      ]
     },
     "metadata": {},
     "output_type": "display_data"
    },
    {
     "name": "stdout",
     "output_type": "stream",
     "text": [
      "\n"
     ]
    },
    {
     "data": {
      "application/vnd.jupyter.widget-view+json": {
       "model_id": "4fdc8c0769804c9c91a2131d1f3b4922",
       "version_major": 2,
       "version_minor": 0
      },
      "text/plain": [
       "HBox(children=(IntProgress(value=0, description='Pandas Apply', max=839, style=ProgressStyle(description_width…"
      ]
     },
     "metadata": {},
     "output_type": "display_data"
    },
    {
     "name": "stdout",
     "output_type": "stream",
     "text": [
      "\n"
     ]
    },
    {
     "data": {
      "application/vnd.jupyter.widget-view+json": {
       "model_id": "43d2738a61c34fe1ab7d6e6a0a3c5018",
       "version_major": 2,
       "version_minor": 0
      },
      "text/plain": [
       "HBox(children=(IntProgress(value=0, description='Pandas Apply', max=839, style=ProgressStyle(description_width…"
      ]
     },
     "metadata": {},
     "output_type": "display_data"
    },
    {
     "name": "stdout",
     "output_type": "stream",
     "text": [
      "\n",
      "Wall time: 25.9 s\n"
     ]
    }
   ],
   "source": [
    "%%time\n",
    "df['BUSINESS_complex_word_count'] = df['BUSINESS'].swifter.apply(complex_word_count)\n",
    "df['RISK_complex_word_count'] =   df['RISK FACTORS'].swifter.apply(complex_word_count)\n",
    "df['SELECTED_complex_word_count'] = df['SELECTED FINANCIAL DATA'].swifter.apply(complex_word_count)\n",
    "df['MDA_complex_word_count'] = df['MDA'].swifter.apply(complex_word_count)\n",
    "df['FSS_complex_word_count'] = df['FSS'].swifter.apply(complex_word_count)"
   ]
  },
  {
   "cell_type": "code",
   "execution_count": 72,
   "metadata": {
    "colab": {
     "base_uri": "https://localhost:8080/",
     "height": 51
    },
    "colab_type": "code",
    "executionInfo": {
     "elapsed": 920020,
     "status": "ok",
     "timestamp": 1571031580885,
     "user": {
      "displayName": "Deepak Gupta",
      "photoUrl": "https://lh3.googleusercontent.com/a-/AAuE7mBfdBpsCi4UwiM8oFrxdyG0VHNBjAl3xyuOzWnzVg=s64",
      "userId": "15678042378023801369"
     },
     "user_tz": -330
    },
    "id": "pv3gke6rNvnd",
    "outputId": "d4c612fd-8ff3-477c-82a0-b559f31965c6"
   },
   "outputs": [
    {
     "name": "stdout",
     "output_type": "stream",
     "text": [
      "Wall time: 7.98 ms\n"
     ]
    }
   ],
   "source": [
    "%%time\n",
    "df['BUSINESS_fog_index'] = np.vectorize(fog_index)(df['BUSINESS_average_sentence_length'],df['BUSINESS_percentage_of_complex_words'])\n",
    "df['RISK_fog_index'] = np.vectorize(fog_index)(df['RISK_average_sentence_length'],df['RISK_percentage_of_complex_words'])\n",
    "df['SELECTED_fog_index'] = np.vectorize(fog_index)(df['SELECTED_average_sentence_length'],df['SELECTED_percentage_of_complex_words'])\n",
    "df['MDA_fog_index'] = np.vectorize(fog_index)(df['MDA_average_sentence_length'],df['MDA_percentage_of_complex_words'])\n",
    "df['FSS_fog_index'] = np.vectorize(fog_index)(df['FSS_average_sentence_length'],df['FSS_percentage_of_complex_words'])"
   ]
  },
  {
   "cell_type": "code",
   "execution_count": 73,
   "metadata": {
    "colab": {
     "base_uri": "https://localhost:8080/",
     "height": 102
    },
    "colab_type": "code",
    "executionInfo": {
     "elapsed": 920531,
     "status": "ok",
     "timestamp": 1571031581402,
     "user": {
      "displayName": "Deepak Gupta",
      "photoUrl": "https://lh3.googleusercontent.com/a-/AAuE7mBfdBpsCi4UwiM8oFrxdyG0VHNBjAl3xyuOzWnzVg=s64",
      "userId": "15678042378023801369"
     },
     "user_tz": -330
    },
    "id": "4xH3aC5WNvne",
    "outputId": "cc35d892-3df9-4ac6-8ee9-645ac743bc6b"
   },
   "outputs": [
    {
     "data": {
      "application/vnd.jupyter.widget-view+json": {
       "model_id": "42ae27821c7b4dd1a322afb966935856",
       "version_major": 2,
       "version_minor": 0
      },
      "text/plain": [
       "HBox(children=(IntProgress(value=0, description='Pandas Apply', max=839, style=ProgressStyle(description_width…"
      ]
     },
     "metadata": {},
     "output_type": "display_data"
    },
    {
     "name": "stdout",
     "output_type": "stream",
     "text": [
      "\n"
     ]
    },
    {
     "data": {
      "application/vnd.jupyter.widget-view+json": {
       "model_id": "c106f093528c483a8d8e867521974aa5",
       "version_major": 2,
       "version_minor": 0
      },
      "text/plain": [
       "HBox(children=(IntProgress(value=0, description='Pandas Apply', max=839, style=ProgressStyle(description_width…"
      ]
     },
     "metadata": {},
     "output_type": "display_data"
    },
    {
     "name": "stdout",
     "output_type": "stream",
     "text": [
      "\n"
     ]
    },
    {
     "data": {
      "application/vnd.jupyter.widget-view+json": {
       "model_id": "1b32b56d4a394ded9c33656911d80155",
       "version_major": 2,
       "version_minor": 0
      },
      "text/plain": [
       "HBox(children=(IntProgress(value=0, description='Pandas Apply', max=839, style=ProgressStyle(description_width…"
      ]
     },
     "metadata": {},
     "output_type": "display_data"
    },
    {
     "name": "stdout",
     "output_type": "stream",
     "text": [
      "\n"
     ]
    },
    {
     "data": {
      "application/vnd.jupyter.widget-view+json": {
       "model_id": "989a0984aba24f359de1b6c407fed1f6",
       "version_major": 2,
       "version_minor": 0
      },
      "text/plain": [
       "HBox(children=(IntProgress(value=0, description='Pandas Apply', max=839, style=ProgressStyle(description_width…"
      ]
     },
     "metadata": {},
     "output_type": "display_data"
    },
    {
     "name": "stdout",
     "output_type": "stream",
     "text": [
      "\n"
     ]
    },
    {
     "data": {
      "application/vnd.jupyter.widget-view+json": {
       "model_id": "d4fbabaf49d44bff8f26af834bc75f97",
       "version_major": 2,
       "version_minor": 0
      },
      "text/plain": [
       "HBox(children=(IntProgress(value=0, description='Pandas Apply', max=839, style=ProgressStyle(description_width…"
      ]
     },
     "metadata": {},
     "output_type": "display_data"
    },
    {
     "name": "stdout",
     "output_type": "stream",
     "text": [
      "\n"
     ]
    }
   ],
   "source": [
    "df['BUSINESS_Pos_Neg_polarity'] = df['BUSINESS_polarity_score'].swifter.apply(lambda x: 1 if x>0 else 0)\n",
    "df['RISK_Pos_Neg_polarity'] = df['RISK_polarity_score'].swifter.apply(lambda x: 1 if x>0 else 0)\n",
    "df['SELECTED_Pos_Neg_polarity'] = df['SELECTED_polarity_score'].swifter.apply(lambda x: 1 if x>0 else 0)\n",
    "df['MDA_Pos_Neg_polarity'] = df['MDA_polarity_score'].swifter.apply(lambda x: 1 if x>0 else 0)\n",
    "df['FSS_Pos_Neg_polarity'] = df['FSS_polarity_score'].swifter.apply(lambda x: 1 if x>0 else 0)"
   ]
  },
  {
   "cell_type": "code",
   "execution_count": 74,
   "metadata": {
    "colab": {
     "base_uri": "https://localhost:8080/",
     "height": 598
    },
    "colab_type": "code",
    "executionInfo": {
     "elapsed": 920525,
     "status": "ok",
     "timestamp": 1571031581403,
     "user": {
      "displayName": "Deepak Gupta",
      "photoUrl": "https://lh3.googleusercontent.com/a-/AAuE7mBfdBpsCi4UwiM8oFrxdyG0VHNBjAl3xyuOzWnzVg=s64",
      "userId": "15678042378023801369"
     },
     "user_tz": -330
    },
    "id": "7xuZg8bONvnf",
    "outputId": "7908c1ed-e49b-418b-83fc-68632de0fffe"
   },
   "outputs": [
    {
     "data": {
      "text/html": [
       "<div>\n",
       "<style scoped>\n",
       "    .dataframe tbody tr th:only-of-type {\n",
       "        vertical-align: middle;\n",
       "    }\n",
       "\n",
       "    .dataframe tbody tr th {\n",
       "        vertical-align: top;\n",
       "    }\n",
       "\n",
       "    .dataframe thead th {\n",
       "        text-align: right;\n",
       "    }\n",
       "</style>\n",
       "<table border=\"1\" class=\"dataframe\">\n",
       "  <thead>\n",
       "    <tr style=\"text-align: right;\">\n",
       "      <th></th>\n",
       "      <th>ticker</th>\n",
       "      <th>cik</th>\n",
       "      <th>filing_date</th>\n",
       "      <th>id</th>\n",
       "      <th>BUSINESS</th>\n",
       "      <th>RISK FACTORS</th>\n",
       "      <th>SELECTED FINANCIAL DATA</th>\n",
       "      <th>MDA</th>\n",
       "      <th>FSS</th>\n",
       "      <th>BUSINESS_Tokens</th>\n",
       "      <th>...</th>\n",
       "      <th>BUSINESS_fog_index</th>\n",
       "      <th>RISK_fog_index</th>\n",
       "      <th>SELECTED_fog_index</th>\n",
       "      <th>MDA_fog_index</th>\n",
       "      <th>FSS_fog_index</th>\n",
       "      <th>BUSINESS_Pos_Neg_polarity</th>\n",
       "      <th>RISK_Pos_Neg_polarity</th>\n",
       "      <th>SELECTED_Pos_Neg_polarity</th>\n",
       "      <th>MDA_Pos_Neg_polarity</th>\n",
       "      <th>FSS_Pos_Neg_polarity</th>\n",
       "    </tr>\n",
       "  </thead>\n",
       "  <tbody>\n",
       "    <tr>\n",
       "      <th>0</th>\n",
       "      <td>GD</td>\n",
       "      <td>40533</td>\n",
       "      <td>2/17/2012</td>\n",
       "      <td>0</td>\n",
       "      <td>overview general dynamic aerospace defense com...</td>\n",
       "      <td>investment common stock debt security subject ...</td>\n",
       "      <td>following table present selected historicalnfi...</td>\n",
       "      <td>based consolidated financial statement prepare...</td>\n",
       "      <td>consolidated statement earningsn year ended de...</td>\n",
       "      <td>[overview, general, dynamic, aerospace, defens...</td>\n",
       "      <td>...</td>\n",
       "      <td>3305.797047</td>\n",
       "      <td>74.591398</td>\n",
       "      <td>78.958376</td>\n",
       "      <td>408.606856</td>\n",
       "      <td>3260.200785</td>\n",
       "      <td>0</td>\n",
       "      <td>0</td>\n",
       "      <td>0</td>\n",
       "      <td>0</td>\n",
       "      <td>0</td>\n",
       "    </tr>\n",
       "    <tr>\n",
       "      <th>1</th>\n",
       "      <td>MTB</td>\n",
       "      <td>36270</td>\n",
       "      <td>3/19/1999</td>\n",
       "      <td>1</td>\n",
       "      <td>nstatistical disclosure pursuant guide distrib...</td>\n",
       "      <td>c risk elementsn nonaccrual pastdue renegotiat...</td>\n",
       "      <td>selected consolidated yearend balance b consol...</td>\n",
       "      <td>company international activity discussed note ...</td>\n",
       "      <td>financial statement schedule required inapplic...</td>\n",
       "      <td>[nstatistical, disclosure, pursuant, guide, di...</td>\n",
       "      <td>...</td>\n",
       "      <td>648.580876</td>\n",
       "      <td>219.778506</td>\n",
       "      <td>36.567033</td>\n",
       "      <td>4.966667</td>\n",
       "      <td>13.776471</td>\n",
       "      <td>0</td>\n",
       "      <td>0</td>\n",
       "      <td>0</td>\n",
       "      <td>0</td>\n",
       "      <td>0</td>\n",
       "    </tr>\n",
       "    <tr>\n",
       "      <th>2</th>\n",
       "      <td>RRC</td>\n",
       "      <td>315852</td>\n",
       "      <td>3/6/2001</td>\n",
       "      <td>2</td>\n",
       "      <td>n ngeneralnrange resource corporation range en...</td>\n",
       "      <td>ovides financing small oil gas producer thenpu...</td>\n",
       "      <td>n nthe following table present selected financ...</td>\n",
       "      <td>capitalized term herein defined footnote thenc...</td>\n",
       "      <td>nreference made index financial statement page...</td>\n",
       "      <td>[n, ngeneralnrange, resource, corporation, ran...</td>\n",
       "      <td>...</td>\n",
       "      <td>1619.397233</td>\n",
       "      <td>322.581141</td>\n",
       "      <td>70.182857</td>\n",
       "      <td>830.192000</td>\n",
       "      <td>55.431884</td>\n",
       "      <td>0</td>\n",
       "      <td>1</td>\n",
       "      <td>1</td>\n",
       "      <td>0</td>\n",
       "      <td>0</td>\n",
       "    </tr>\n",
       "    <tr>\n",
       "      <th>3</th>\n",
       "      <td>LH</td>\n",
       "      <td>920148</td>\n",
       "      <td>2/26/2009</td>\n",
       "      <td>3</td>\n",
       "      <td>clinical laboratory testing industry competiti...</td>\n",
       "      <td>risk associated company businesschanges federa...</td>\n",
       "      <td>presented caption statement operation data bal...</td>\n",
       "      <td>included elsewhere hereiyear ended december b ...</td>\n",
       "      <td>reference made index page f financial report i...</td>\n",
       "      <td>[clinical, laboratory, testing, industry, comp...</td>\n",
       "      <td>...</td>\n",
       "      <td>2857.805711</td>\n",
       "      <td>1043.807436</td>\n",
       "      <td>304.521419</td>\n",
       "      <td>287.716273</td>\n",
       "      <td>3.733333</td>\n",
       "      <td>0</td>\n",
       "      <td>0</td>\n",
       "      <td>0</td>\n",
       "      <td>0</td>\n",
       "      <td>0</td>\n",
       "    </tr>\n",
       "    <tr>\n",
       "      <th>4</th>\n",
       "      <td>SYY</td>\n",
       "      <td>96021</td>\n",
       "      <td>9/16/2004</td>\n",
       "      <td>4</td>\n",
       "      <td>n overview sysco corporation acting subsidiary...</td>\n",
       "      <td>nitem quantitative qualitative disclosure mark...</td>\n",
       "      <td>n fiscal yearn n n week n n thousand except sh...</td>\n",
       "      <td>mical product distributornreed distributor inc...</td>\n",
       "      <td>sysco corporation subsidiary index consolidate...</td>\n",
       "      <td>[n, overview, sysco, corporation, acting, subs...</td>\n",
       "      <td>...</td>\n",
       "      <td>569.404357</td>\n",
       "      <td>308.199481</td>\n",
       "      <td>54.535294</td>\n",
       "      <td>131.798176</td>\n",
       "      <td>37.782979</td>\n",
       "      <td>1</td>\n",
       "      <td>0</td>\n",
       "      <td>0</td>\n",
       "      <td>0</td>\n",
       "      <td>0</td>\n",
       "    </tr>\n",
       "  </tbody>\n",
       "</table>\n",
       "<p>5 rows × 64 columns</p>\n",
       "</div>"
      ],
      "text/plain": [
       "  ticker     cik filing_date  id  \\\n",
       "0     GD   40533   2/17/2012   0   \n",
       "1    MTB   36270   3/19/1999   1   \n",
       "2    RRC  315852    3/6/2001   2   \n",
       "3     LH  920148   2/26/2009   3   \n",
       "4    SYY   96021   9/16/2004   4   \n",
       "\n",
       "                                            BUSINESS  \\\n",
       "0  overview general dynamic aerospace defense com...   \n",
       "1  nstatistical disclosure pursuant guide distrib...   \n",
       "2  n ngeneralnrange resource corporation range en...   \n",
       "3  clinical laboratory testing industry competiti...   \n",
       "4  n overview sysco corporation acting subsidiary...   \n",
       "\n",
       "                                        RISK FACTORS  \\\n",
       "0  investment common stock debt security subject ...   \n",
       "1  c risk elementsn nonaccrual pastdue renegotiat...   \n",
       "2  ovides financing small oil gas producer thenpu...   \n",
       "3  risk associated company businesschanges federa...   \n",
       "4  nitem quantitative qualitative disclosure mark...   \n",
       "\n",
       "                             SELECTED FINANCIAL DATA  \\\n",
       "0  following table present selected historicalnfi...   \n",
       "1  selected consolidated yearend balance b consol...   \n",
       "2  n nthe following table present selected financ...   \n",
       "3  presented caption statement operation data bal...   \n",
       "4  n fiscal yearn n n week n n thousand except sh...   \n",
       "\n",
       "                                                 MDA  \\\n",
       "0  based consolidated financial statement prepare...   \n",
       "1  company international activity discussed note ...   \n",
       "2  capitalized term herein defined footnote thenc...   \n",
       "3  included elsewhere hereiyear ended december b ...   \n",
       "4  mical product distributornreed distributor inc...   \n",
       "\n",
       "                                                 FSS  \\\n",
       "0  consolidated statement earningsn year ended de...   \n",
       "1  financial statement schedule required inapplic...   \n",
       "2  nreference made index financial statement page...   \n",
       "3  reference made index page f financial report i...   \n",
       "4  sysco corporation subsidiary index consolidate...   \n",
       "\n",
       "                                     BUSINESS_Tokens  ... BUSINESS_fog_index  \\\n",
       "0  [overview, general, dynamic, aerospace, defens...  ...        3305.797047   \n",
       "1  [nstatistical, disclosure, pursuant, guide, di...  ...         648.580876   \n",
       "2  [n, ngeneralnrange, resource, corporation, ran...  ...        1619.397233   \n",
       "3  [clinical, laboratory, testing, industry, comp...  ...        2857.805711   \n",
       "4  [n, overview, sysco, corporation, acting, subs...  ...         569.404357   \n",
       "\n",
       "  RISK_fog_index SELECTED_fog_index MDA_fog_index  FSS_fog_index  \\\n",
       "0      74.591398          78.958376    408.606856    3260.200785   \n",
       "1     219.778506          36.567033      4.966667      13.776471   \n",
       "2     322.581141          70.182857    830.192000      55.431884   \n",
       "3    1043.807436         304.521419    287.716273       3.733333   \n",
       "4     308.199481          54.535294    131.798176      37.782979   \n",
       "\n",
       "   BUSINESS_Pos_Neg_polarity  RISK_Pos_Neg_polarity  \\\n",
       "0                          0                      0   \n",
       "1                          0                      0   \n",
       "2                          0                      1   \n",
       "3                          0                      0   \n",
       "4                          1                      0   \n",
       "\n",
       "   SELECTED_Pos_Neg_polarity  MDA_Pos_Neg_polarity  FSS_Pos_Neg_polarity  \n",
       "0                          0                     0                     0  \n",
       "1                          0                     0                     0  \n",
       "2                          1                     0                     0  \n",
       "3                          0                     0                     0  \n",
       "4                          0                     0                     0  \n",
       "\n",
       "[5 rows x 64 columns]"
      ]
     },
     "execution_count": 74,
     "metadata": {},
     "output_type": "execute_result"
    }
   ],
   "source": [
    "df.head()"
   ]
  },
  {
   "cell_type": "code",
   "execution_count": 75,
   "metadata": {
    "colab": {
     "base_uri": "https://localhost:8080/",
     "height": 476
    },
    "colab_type": "code",
    "executionInfo": {
     "elapsed": 920519,
     "status": "ok",
     "timestamp": 1571031581404,
     "user": {
      "displayName": "Deepak Gupta",
      "photoUrl": "https://lh3.googleusercontent.com/a-/AAuE7mBfdBpsCi4UwiM8oFrxdyG0VHNBjAl3xyuOzWnzVg=s64",
      "userId": "15678042378023801369"
     },
     "user_tz": -330
    },
    "id": "KefJJErlNvng",
    "outputId": "5dafe719-8dbf-4cef-da0c-7e6ad66015dd"
   },
   "outputs": [
    {
     "data": {
      "text/plain": [
       "Index(['ticker', 'cik', 'filing_date', 'id', 'BUSINESS', 'RISK FACTORS',\n",
       "       'SELECTED FINANCIAL DATA', 'MDA', 'FSS', 'BUSINESS_Tokens',\n",
       "       'RISK_Tokens', 'SELECTED_Tokens', 'MDA_Tokens', 'FSS_Tokens',\n",
       "       'BUSINESS_POSITIVE', 'RISK FACTORS_POSITIVE',\n",
       "       'SELECTED FINANCIAL DATA_POSITIVE', 'MDA_POSITIVE', 'FSS_POSITIVE',\n",
       "       'BUSINESS_NEGATIVE', 'RISK FACTORS_NEGATIVE',\n",
       "       'SELECTED FINANCIAL DATA_NEGATIVE', 'MDA_NEGATIVE', 'FSS_NEGATIVE',\n",
       "       'BUSINESS_UNCERTAINTY', 'RISK FACTORS_UNCERTAINTY',\n",
       "       'SELECTED FINANCIAL DATA_UNCERTAINTY', 'MDA_UNCERTAINTY',\n",
       "       'FSS_UNCERTAINTY', 'BUSINESS_average_sentence_length',\n",
       "       'RISK_average_sentence_length', 'SELECTED_average_sentence_length',\n",
       "       'MDA_average_sentence_length', 'FSS_average_sentence_length',\n",
       "       'BUSINESS_word_count', 'RISK_word_count', 'SELECTED_word_count',\n",
       "       'MDA_word_count', 'FSS_word_count', 'BUSINESS_polarity_score',\n",
       "       'RISK_polarity_score', 'SELECTED_polarity_score', 'MDA_polarity_score',\n",
       "       'FSS_polarity_score', 'BUSINESS_percentage_of_complex_words',\n",
       "       'RISK_percentage_of_complex_words',\n",
       "       'SELECTED_percentage_of_complex_words',\n",
       "       'MDA_percentage_of_complex_words', 'FSS_percentage_of_complex_words',\n",
       "       'BUSINESS_complex_word_count', 'RISK_complex_word_count',\n",
       "       'SELECTED_complex_word_count', 'MDA_complex_word_count',\n",
       "       'FSS_complex_word_count', 'BUSINESS_fog_index', 'RISK_fog_index',\n",
       "       'SELECTED_fog_index', 'MDA_fog_index', 'FSS_fog_index',\n",
       "       'BUSINESS_Pos_Neg_polarity', 'RISK_Pos_Neg_polarity',\n",
       "       'SELECTED_Pos_Neg_polarity', 'MDA_Pos_Neg_polarity',\n",
       "       'FSS_Pos_Neg_polarity'],\n",
       "      dtype='object')"
      ]
     },
     "execution_count": 75,
     "metadata": {},
     "output_type": "execute_result"
    }
   ],
   "source": [
    "df.columns"
   ]
  },
  {
   "cell_type": "code",
   "execution_count": 76,
   "metadata": {
    "colab": {
     "base_uri": "https://localhost:8080/",
     "height": 51
    },
    "colab_type": "code",
    "executionInfo": {
     "elapsed": 925796,
     "status": "ok",
     "timestamp": 1571031586687,
     "user": {
      "displayName": "Deepak Gupta",
      "photoUrl": "https://lh3.googleusercontent.com/a-/AAuE7mBfdBpsCi4UwiM8oFrxdyG0VHNBjAl3xyuOzWnzVg=s64",
      "userId": "15678042378023801369"
     },
     "user_tz": -330
    },
    "id": "UobBxwFhNvng",
    "outputId": "88375813-1860-452f-e7c3-3e8853e0aa61"
   },
   "outputs": [
    {
     "name": "stdout",
     "output_type": "stream",
     "text": [
      "Wall time: 3.73 s\n"
     ]
    }
   ],
   "source": [
    "%%time\n",
    "#df.to_csv(\"/content/drive/My Drive/PHD/Final_Test_OutPut.csv\",index=False)\n",
    "df.to_csv(\"Final_Test_OutPut.csv\",index=False)"
   ]
  },
  {
   "cell_type": "code",
   "execution_count": null,
   "metadata": {
    "colab": {},
    "colab_type": "code",
    "id": "uN0Y-UJ3kEpK"
   },
   "outputs": [],
   "source": []
  }
 ],
 "metadata": {
  "accelerator": "GPU",
  "colab": {
   "collapsed_sections": [],
   "name": "B65_TEST_PHD_2880_Deepak_Process_Data_EDA.ipynb",
   "provenance": [],
   "toc_visible": true
  },
  "kernelspec": {
   "display_name": "Python 3",
   "language": "python",
   "name": "python3"
  },
  "language_info": {
   "codemirror_mode": {
    "name": "ipython",
    "version": 3
   },
   "file_extension": ".py",
   "mimetype": "text/x-python",
   "name": "python",
   "nbconvert_exporter": "python",
   "pygments_lexer": "ipython3",
   "version": "3.6.6"
  }
 },
 "nbformat": 4,
 "nbformat_minor": 1
}
